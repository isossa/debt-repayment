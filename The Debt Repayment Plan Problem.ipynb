{
 "cells": [
  {
   "cell_type": "markdown",
   "id": "bb90d2c0",
   "metadata": {},
   "source": [
    "### Debt Repayment Plan"
   ]
  },
  {
   "cell_type": "markdown",
   "id": "c7523dcf",
   "metadata": {},
   "source": [
    "#### Basic Case"
   ]
  },
  {
   "cell_type": "markdown",
   "id": "0ca849d6",
   "metadata": {},
   "source": [
    "- Data\n",
    "    - **N<sub>i</sub>**  : Monthly income during period **i**\n",
    "    - **E<sub>i</sub>**  : Monthly expense during period **i**\n",
    "    - **M<sub>i</sub>**  : Monthly required savings during period **i**\n",
    "    - **I**              : Interest paid on loan\n",
    "    \n",
    "\n",
    "- Decision Variables\n",
    "    - **S<sub>i</sub>**  : Monthly savings during period **i**\n",
    "    - **R<sub>i</sub>**  : Debt paid during month **i**\n",
    "    - **X<sub>i</sub>**  : Debt owed at the beginning of month **i**"
   ]
  },
  {
   "cell_type": "code",
   "execution_count": 1,
   "id": "37853f24",
   "metadata": {},
   "outputs": [],
   "source": [
    "using JuMP\n",
    "import HiGHS"
   ]
  },
  {
   "cell_type": "code",
   "execution_count": 2,
   "id": "25d5996a",
   "metadata": {},
   "outputs": [
    {
     "data": {
      "text/plain": [
       "4500"
      ]
     },
     "execution_count": 2,
     "metadata": {},
     "output_type": "execute_result"
    }
   ],
   "source": [
    "# Data\n",
    "debt = Dict(\n",
    "    \"Loan\" => 32000,\n",
    "    \"Period\" => 10,\n",
    "    \"Interest\" => 6.8 / 100\n",
    ")\n",
    "periods = 1:debt[\"Period\"]\n",
    "const NET_INCOME = 4500"
   ]
  },
  {
   "cell_type": "code",
   "execution_count": 3,
   "id": "d4ea1713",
   "metadata": {},
   "outputs": [],
   "source": [
    "# Initialize model\n",
    "model = Model(HiGHS.Optimizer);"
   ]
  },
  {
   "cell_type": "markdown",
   "id": "1c5a0b49",
   "metadata": {},
   "source": [
    "#### Decision Variables"
   ]
  },
  {
   "cell_type": "code",
   "execution_count": 4,
   "id": "05c31713",
   "metadata": {},
   "outputs": [],
   "source": [
    "# Monthly savings\n",
    "@variable(model, 0 <= S[periods] <= NET_INCOME);\n",
    "\n",
    "# Monthly debt reimbursed\n",
    "@variable(model, 0 <= R[periods] <= NET_INCOME);\n",
    "\n",
    "# Monthly balance\n",
    "@variable(model, X[cat(periods, periods[end] + 1, dims = 1)] >= 0);"
   ]
  },
  {
   "cell_type": "markdown",
   "id": "aede0a21",
   "metadata": {},
   "source": [
    "#### Constraints"
   ]
  },
  {
   "cell_type": "code",
   "execution_count": 5,
   "id": "c9e1d22c",
   "metadata": {},
   "outputs": [
    {
     "data": {
      "text/latex": [
       "$$ X_{1} = 32000.0 $$"
      ],
      "text/plain": [
       "X[1] == 32000.0"
      ]
     },
     "execution_count": 5,
     "metadata": {},
     "output_type": "execute_result"
    }
   ],
   "source": [
    "# Debt owed at the beginning of period 1\n",
    "@constraint(model,\n",
    "    X[1] == debt[\"Loan\"]\n",
    ")"
   ]
  },
  {
   "cell_type": "code",
   "execution_count": 6,
   "id": "15ed9b63",
   "metadata": {},
   "outputs": [
    {
     "data": {
      "text/latex": [
       "$$ X_{10} = 0.0 $$"
      ],
      "text/plain": [
       "X[10] == 0.0"
      ]
     },
     "execution_count": 6,
     "metadata": {},
     "output_type": "execute_result"
    }
   ],
   "source": [
    "# Ensure that all debt is paid off by the grace period\n",
    "@constraint(model,\n",
    "    X[debt[\"Period\"]] == 0\n",
    ")"
   ]
  },
  {
   "cell_type": "code",
   "execution_count": 7,
   "id": "5a224f2d",
   "metadata": {},
   "outputs": [
    {
     "data": {
      "text/plain": [
       "1-dimensional DenseAxisArray{ConstraintRef{Model, MathOptInterface.ConstraintIndex{MathOptInterface.ScalarAffineFunction{Float64}, MathOptInterface.EqualTo{Float64}}, ScalarShape},1,...} with index sets:\n",
       "    Dimension 1, 1:10\n",
       "And data, a 10-element Vector{ConstraintRef{Model, MathOptInterface.ConstraintIndex{MathOptInterface.ScalarAffineFunction{Float64}, MathOptInterface.EqualTo{Float64}}, ScalarShape}}:\n",
       " 1.068 R[1] - 1.068 X[1] + X[2] == 0.0\n",
       " 1.068 R[2] - 1.068 X[2] + X[3] == 0.0\n",
       " 1.068 R[3] - 1.068 X[3] + X[4] == 0.0\n",
       " 1.068 R[4] - 1.068 X[4] + X[5] == 0.0\n",
       " 1.068 R[5] - 1.068 X[5] + X[6] == 0.0\n",
       " 1.068 R[6] - 1.068 X[6] + X[7] == 0.0\n",
       " 1.068 R[7] - 1.068 X[7] + X[8] == 0.0\n",
       " 1.068 R[8] - 1.068 X[8] + X[9] == 0.0\n",
       " 1.068 R[9] - 1.068 X[9] + X[10] == 0.0\n",
       " 1.068 R[10] - 1.068 X[10] + X[11] == 0.0"
      ]
     },
     "execution_count": 7,
     "metadata": {},
     "output_type": "execute_result"
    }
   ],
   "source": [
    "# Debt owed the beginning of period 2...end\n",
    "@constraint(model,\n",
    "    [i in periods],\n",
    "    X[i + 1] == (1 + debt[\"Interest\"]) * (X[i] - R[i])\n",
    ")"
   ]
  },
  {
   "cell_type": "code",
   "execution_count": 8,
   "id": "52897e10",
   "metadata": {},
   "outputs": [
    {
     "data": {
      "text/plain": [
       "1-dimensional DenseAxisArray{ConstraintRef{Model, MathOptInterface.ConstraintIndex{MathOptInterface.ScalarAffineFunction{Float64}, MathOptInterface.LessThan{Float64}}, ScalarShape},1,...} with index sets:\n",
       "    Dimension 1, 1:10\n",
       "And data, a 10-element Vector{ConstraintRef{Model, MathOptInterface.ConstraintIndex{MathOptInterface.ScalarAffineFunction{Float64}, MathOptInterface.LessThan{Float64}}, ScalarShape}}:\n",
       " S[1] + R[1] <= 4500.0\n",
       " S[2] + R[2] <= 4500.0\n",
       " S[3] + R[3] <= 4500.0\n",
       " S[4] + R[4] <= 4500.0\n",
       " S[5] + R[5] <= 4500.0\n",
       " S[6] + R[6] <= 4500.0\n",
       " S[7] + R[7] <= 4500.0\n",
       " S[8] + R[8] <= 4500.0\n",
       " S[9] + R[9] <= 4500.0\n",
       " S[10] + R[10] <= 4500.0"
      ]
     },
     "execution_count": 8,
     "metadata": {},
     "output_type": "execute_result"
    }
   ],
   "source": [
    "# Monthly expense can't exceed net income\n",
    "@constraint(model,\n",
    "    [i in periods],\n",
    "    S[i] + R[i] <= NET_INCOME\n",
    ")"
   ]
  },
  {
   "cell_type": "markdown",
   "id": "9bd1d2d8",
   "metadata": {},
   "source": [
    "#### Objective Function"
   ]
  },
  {
   "cell_type": "code",
   "execution_count": 9,
   "id": "abfa892f",
   "metadata": {},
   "outputs": [
    {
     "data": {
      "text/latex": [
       "$$ S_{1} + S_{2} + S_{3} + S_{4} + S_{5} + S_{6} + S_{7} + S_{8} + S_{9} + S_{10} $$"
      ],
      "text/plain": [
       "S[1] + S[2] + S[3] + S[4] + S[5] + S[6] + S[7] + S[8] + S[9] + S[10]"
      ]
     },
     "execution_count": 9,
     "metadata": {},
     "output_type": "execute_result"
    }
   ],
   "source": [
    "# Objective function\n",
    "@objective(model, Max, sum(S))"
   ]
  },
  {
   "cell_type": "markdown",
   "id": "bedfb60c",
   "metadata": {},
   "source": [
    "#### Solve Model"
   ]
  },
  {
   "cell_type": "code",
   "execution_count": 10,
   "id": "02a20fa4",
   "metadata": {
    "scrolled": true
   },
   "outputs": [
    {
     "data": {
      "text/latex": [
       "$$ \\begin{aligned}\n",
       "\\max\\quad & S_{1} + S_{2} + S_{3} + S_{4} + S_{5} + S_{6} + S_{7} + S_{8} + S_{9} + S_{10}\\\\\n",
       "\\text{Subject to} \\quad & X_{1} = 32000.0\\\\\n",
       " & X_{10} = 0.0\\\\\n",
       " & 1.068 R_{1} - 1.068 X_{1} + X_{2} = 0.0\\\\\n",
       " & 1.068 R_{2} - 1.068 X_{2} + X_{3} = 0.0\\\\\n",
       " & 1.068 R_{3} - 1.068 X_{3} + X_{4} = 0.0\\\\\n",
       " & 1.068 R_{4} - 1.068 X_{4} + X_{5} = 0.0\\\\\n",
       " & 1.068 R_{5} - 1.068 X_{5} + X_{6} = 0.0\\\\\n",
       " & 1.068 R_{6} - 1.068 X_{6} + X_{7} = 0.0\\\\\n",
       " & 1.068 R_{7} - 1.068 X_{7} + X_{8} = 0.0\\\\\n",
       " & 1.068 R_{8} - 1.068 X_{8} + X_{9} = 0.0\\\\\n",
       " & 1.068 R_{9} - 1.068 X_{9} + X_{10} = 0.0\\\\\n",
       " & 1.068 R_{10} - 1.068 X_{10} + X_{11} = 0.0\\\\\n",
       " & S_{1} + R_{1} \\leq 4500.0\\\\\n",
       " & S_{2} + R_{2} \\leq 4500.0\\\\\n",
       " & S_{3} + R_{3} \\leq 4500.0\\\\\n",
       " & S_{4} + R_{4} \\leq 4500.0\\\\\n",
       " & S_{5} + R_{5} \\leq 4500.0\\\\\n",
       " & S_{6} + R_{6} \\leq 4500.0\\\\\n",
       " & S_{7} + R_{7} \\leq 4500.0\\\\\n",
       " & S_{8} + R_{8} \\leq 4500.0\\\\\n",
       " & S_{9} + R_{9} \\leq 4500.0\\\\\n",
       " & S_{10} + R_{10} \\leq 4500.0\\\\\n",
       " & S_{1} \\geq 0.0\\\\\n",
       " & S_{2} \\geq 0.0\\\\\n",
       " & S_{3} \\geq 0.0\\\\\n",
       " & S_{4} \\geq 0.0\\\\\n",
       " & S_{5} \\geq 0.0\\\\\n",
       " & S_{6} \\geq 0.0\\\\\n",
       " & S_{7} \\geq 0.0\\\\\n",
       " & S_{8} \\geq 0.0\\\\\n",
       " & S_{9} \\geq 0.0\\\\\n",
       " & S_{10} \\geq 0.0\\\\\n",
       " & R_{1} \\geq 0.0\\\\\n",
       " & R_{2} \\geq 0.0\\\\\n",
       " & R_{3} \\geq 0.0\\\\\n",
       " & R_{4} \\geq 0.0\\\\\n",
       " & R_{5} \\geq 0.0\\\\\n",
       " & R_{6} \\geq 0.0\\\\\n",
       " & R_{7} \\geq 0.0\\\\\n",
       " & R_{8} \\geq 0.0\\\\\n",
       " & R_{9} \\geq 0.0\\\\\n",
       " & R_{10} \\geq 0.0\\\\\n",
       " & X_{1} \\geq 0.0\\\\\n",
       " & X_{2} \\geq 0.0\\\\\n",
       " & X_{3} \\geq 0.0\\\\\n",
       " & X_{4} \\geq 0.0\\\\\n",
       " & X_{5} \\geq 0.0\\\\\n",
       " & X_{6} \\geq 0.0\\\\\n",
       " & X_{7} \\geq 0.0\\\\\n",
       " & X_{8} \\geq 0.0\\\\\n",
       " & X_{9} \\geq 0.0\\\\\n",
       " & X_{10} \\geq 0.0\\\\\n",
       " & X_{11} \\geq 0.0\\\\\n",
       " & S_{1} \\leq 4500.0\\\\\n",
       " & S_{2} \\leq 4500.0\\\\\n",
       " & S_{3} \\leq 4500.0\\\\\n",
       " & S_{4} \\leq 4500.0\\\\\n",
       " & S_{5} \\leq 4500.0\\\\\n",
       " & S_{6} \\leq 4500.0\\\\\n",
       " & S_{7} \\leq 4500.0\\\\\n",
       " & S_{8} \\leq 4500.0\\\\\n",
       " & S_{9} \\leq 4500.0\\\\\n",
       " & S_{10} \\leq 4500.0\\\\\n",
       " & R_{1} \\leq 4500.0\\\\\n",
       " & R_{2} \\leq 4500.0\\\\\n",
       " & R_{3} \\leq 4500.0\\\\\n",
       " & R_{4} \\leq 4500.0\\\\\n",
       " & R_{5} \\leq 4500.0\\\\\n",
       " & R_{6} \\leq 4500.0\\\\\n",
       " & R_{7} \\leq 4500.0\\\\\n",
       " & R_{8} \\leq 4500.0\\\\\n",
       " & R_{9} \\leq 4500.0\\\\\n",
       " & R_{10} \\leq 4500.0\\\\\n",
       "\\end{aligned} $$"
      ]
     },
     "metadata": {},
     "output_type": "display_data"
    }
   ],
   "source": [
    "print(model)"
   ]
  },
  {
   "cell_type": "code",
   "execution_count": 11,
   "id": "0802c41d",
   "metadata": {},
   "outputs": [
    {
     "name": "stdout",
     "output_type": "stream",
     "text": [
      "Presolving model\n",
      "16 rows, 24 cols, 39 nonzeros\n",
      "10 rows, 18 cols, 27 nonzeros\n",
      "Problem status detected on presolve: Infeasible\n",
      "Model   status      : Infeasible\n",
      "Objective value     :  0.0000000000e+00\n",
      "HiGHS run time      :          0.00\n",
      "ERROR:   No invertible representation for getDualRay\n"
     ]
    },
    {
     "name": "stderr",
     "output_type": "stream",
     "text": [
      "┌ Warning: The model was not solved correctly.\n",
      "└ @ Main In[11]:6\n"
     ]
    }
   ],
   "source": [
    "function solve_infeasible(model)\n",
    "    optimize!(model)\n",
    "    if termination_status(model) == OPTIMAL\n",
    "        return objective_value(model)\n",
    "    else\n",
    "        @warn(\"The model was not solved correctly.\")\n",
    "        return nothing\n",
    "    end\n",
    "end\n",
    "\n",
    "solve_infeasible(model)"
   ]
  },
  {
   "cell_type": "code",
   "execution_count": 12,
   "id": "7ad50532",
   "metadata": {},
   "outputs": [],
   "source": [
    "using Printf\n",
    "function print_payment_plan(model)\n",
    "    @printf(\"| %-10s | %-15s | %-10s | %-10s | %-15s | %-10s | %-12s |\\n\",\n",
    "        \"Period\", \"Initial Balance\", \"Payment\", \"Savings\", \n",
    "        \"Int. Rate (%)\", \"Interest\", \"End Balance\"\n",
    "    )\n",
    "    for i in periods\n",
    "        @printf(\"| %10d | %15.2f | %10.2f | %10.2f | %15.2f | %10.2f | %12.2f |\\n\", \n",
    "            i,\n",
    "            value(X[i]), \n",
    "            value(R[i]), \n",
    "            value(S[i]),\n",
    "            debt[\"Interest\"],\n",
    "            if i == 1 0 else value(X[i]) - (value(X[i - 1] ) - value(R[i - 1])) end,\n",
    "            value(X[i]) - value(R[i])\n",
    "        )\n",
    "    end\n",
    "end;"
   ]
  },
  {
   "cell_type": "code",
   "execution_count": 13,
   "id": "ff417696",
   "metadata": {
    "scrolled": true
   },
   "outputs": [],
   "source": [
    "if termination_status(model) == OPTIMAL\n",
    "    print_payment_plan(model)\n",
    "end"
   ]
  },
  {
   "cell_type": "code",
   "execution_count": 14,
   "id": "35fbea86",
   "metadata": {},
   "outputs": [
    {
     "name": "stdout",
     "output_type": "stream",
     "text": [
      "                                                                                                                      ℑ"
     ]
    }
   ],
   "source": [
    "@printf(\"%119s\", '\\U2111')"
   ]
  }
 ],
 "metadata": {
  "kernelspec": {
   "display_name": "Julia 1.7.2",
   "language": "julia",
   "name": "julia-1.7"
  },
  "language_info": {
   "file_extension": ".jl",
   "mimetype": "application/julia",
   "name": "julia",
   "version": "1.7.2"
  }
 },
 "nbformat": 4,
 "nbformat_minor": 5
}
