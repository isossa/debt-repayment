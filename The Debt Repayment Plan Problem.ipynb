{
 "cells": [
  {
   "cell_type": "markdown",
   "id": "e1dfa03e",
   "metadata": {},
   "source": [
    "### Debt Repayment Plan"
   ]
  },
  {
   "cell_type": "markdown",
   "id": "6125ae30",
   "metadata": {},
   "source": [
    "#### Basic Case"
   ]
  },
  {
   "cell_type": "markdown",
   "id": "26f84a5a",
   "metadata": {},
   "source": [
    "- Data\n",
    "    - **N<sub>i</sub>**  : Monthly income during period **i**\n",
    "    - **E<sub>i</sub>**  : Monthly expense during period **i**\n",
    "    - **M<sub>i</sub>**  : Monthly required savings during period **i**\n",
    "    - **I**              : Interest paid on loan\n",
    "    \n",
    "\n",
    "- Decision Variables\n",
    "    - **S<sub>i</sub>**  : Monthly savings during period **i**\n",
    "    - **R<sub>i</sub>**  : Debt paid during month **i**\n",
    "    - **X<sub>i</sub>**  : Debt owed at the beginning of month **i**"
   ]
  },
  {
   "cell_type": "code",
   "execution_count": 1,
   "id": "19e82722",
   "metadata": {},
   "outputs": [],
   "source": [
    "using JuMP\n",
    "import HiGHS"
   ]
  },
  {
   "cell_type": "code",
   "execution_count": 2,
   "id": "c1b0bb8a",
   "metadata": {},
   "outputs": [
    {
     "data": {
      "text/plain": [
       "4500"
      ]
     },
     "execution_count": 2,
     "metadata": {},
     "output_type": "execute_result"
    }
   ],
   "source": [
    "# Data\n",
    "debt = Dict(\n",
    "    \"Loan\" => 10000,\n",
    "    \"Period\" => 10,\n",
    "    \"Interest\" => 6.8 / 100\n",
    ")\n",
    "periods = 1:debt[\"Period\"]\n",
    "const NET_INCOME = 4500"
   ]
  },
  {
   "cell_type": "code",
   "execution_count": 3,
   "id": "d8a068ab",
   "metadata": {},
   "outputs": [],
   "source": [
    "# Initialize model\n",
    "model = Model(HiGHS.Optimizer);"
   ]
  },
  {
   "cell_type": "markdown",
   "id": "cb3169bd",
   "metadata": {},
   "source": [
    "#### Decision Variables"
   ]
  },
  {
   "cell_type": "code",
   "execution_count": 4,
   "id": "cdc5949d",
   "metadata": {},
   "outputs": [],
   "source": [
    "# Monthly savings\n",
    "@variable(model, 0 <= S[periods] <= NET_INCOME);\n",
    "\n",
    "# Monthly debt reimbursed\n",
    "@variable(model, 0 <= R[periods] <= NET_INCOME);\n",
    "\n",
    "# Monthly balance\n",
    "@variable(model, X[cat(periods, periods[end] + 1, dims = 1)] >= 0);"
   ]
  },
  {
   "cell_type": "markdown",
   "id": "27228f67",
   "metadata": {},
   "source": [
    "#### Constraints"
   ]
  },
  {
   "cell_type": "code",
   "execution_count": 5,
   "id": "446b2e16",
   "metadata": {},
   "outputs": [
    {
     "name": "stdout",
     "output_type": "stream",
     "text": [
      "#= In[5]:2 =# @constraint(model, X[1] == debt[\"Loan\"]) = X[1] == 10000.0\n"
     ]
    },
    {
     "data": {
      "text/latex": [
       "$$ X_{1} = 10000.0 $$"
      ],
      "text/plain": [
       "X[1] == 10000.0"
      ]
     },
     "execution_count": 5,
     "metadata": {},
     "output_type": "execute_result"
    }
   ],
   "source": [
    "# Debt owed at the beginning of period 1\n",
    "@show @constraint(model,\n",
    "    X[1] == debt[\"Loan\"]\n",
    ")"
   ]
  },
  {
   "cell_type": "code",
   "execution_count": 6,
   "id": "b28d7b70",
   "metadata": {},
   "outputs": [
    {
     "name": "stdout",
     "output_type": "stream",
     "text": [
      "#= In[6]:2 =# @constraint(model, X[debt[\"Period\"]] == 0) = X[10] == 0.0\n"
     ]
    },
    {
     "data": {
      "text/latex": [
       "$$ X_{10} = 0.0 $$"
      ],
      "text/plain": [
       "X[10] == 0.0"
      ]
     },
     "execution_count": 6,
     "metadata": {},
     "output_type": "execute_result"
    }
   ],
   "source": [
    "# Ensure that all debt is paid off by the grace period\n",
    "@show @constraint(model,\n",
    "    X[debt[\"Period\"]] == 0\n",
    ")"
   ]
  },
  {
   "cell_type": "code",
   "execution_count": 7,
   "id": "ca49b5e6",
   "metadata": {},
   "outputs": [
    {
     "name": "stdout",
     "output_type": "stream",
     "text": [
      "#= In[7]:2 =# @constraint(model, [i in periods], X[i + 1] == (1 + debt[\"Interest\"]) * (X[i] - R[i])) = 1-dimensional DenseAxisArray{ConstraintRef{Model, MathOptInterface.ConstraintIndex{MathOptInterface.ScalarAffineFunction{Float64}, MathOptInterface.EqualTo{Float64}}, ScalarShape},1,...} with index sets:\n",
      "    Dimension 1, 1:10\n",
      "And data, a 10-element Vector{ConstraintRef{Model, MathOptInterface.ConstraintIndex{MathOptInterface.ScalarAffineFunction{Float64}, MathOptInterface.EqualTo{Float64}}, ScalarShape}}:\n",
      " 1.068 R[1] - 1.068 X[1] + X[2] == 0.0\n",
      " 1.068 R[2] - 1.068 X[2] + X[3] == 0.0\n",
      " 1.068 R[3] - 1.068 X[3] + X[4] == 0.0\n",
      " 1.068 R[4] - 1.068 X[4] + X[5] == 0.0\n",
      " 1.068 R[5] - 1.068 X[5] + X[6] == 0.0\n",
      " 1.068 R[6] - 1.068 X[6] + X[7] == 0.0\n",
      " 1.068 R[7] - 1.068 X[7] + X[8] == 0.0\n",
      " 1.068 R[8] - 1.068 X[8] + X[9] == 0.0\n",
      " 1.068 R[9] - 1.068 X[9] + X[10] == 0.0\n",
      " 1.068 R[10] - 1.068 X[10] + X[11] == 0.0\n"
     ]
    },
    {
     "data": {
      "text/plain": [
       "1-dimensional DenseAxisArray{ConstraintRef{Model, MathOptInterface.ConstraintIndex{MathOptInterface.ScalarAffineFunction{Float64}, MathOptInterface.EqualTo{Float64}}, ScalarShape},1,...} with index sets:\n",
       "    Dimension 1, 1:10\n",
       "And data, a 10-element Vector{ConstraintRef{Model, MathOptInterface.ConstraintIndex{MathOptInterface.ScalarAffineFunction{Float64}, MathOptInterface.EqualTo{Float64}}, ScalarShape}}:\n",
       " 1.068 R[1] - 1.068 X[1] + X[2] == 0.0\n",
       " 1.068 R[2] - 1.068 X[2] + X[3] == 0.0\n",
       " 1.068 R[3] - 1.068 X[3] + X[4] == 0.0\n",
       " 1.068 R[4] - 1.068 X[4] + X[5] == 0.0\n",
       " 1.068 R[5] - 1.068 X[5] + X[6] == 0.0\n",
       " 1.068 R[6] - 1.068 X[6] + X[7] == 0.0\n",
       " 1.068 R[7] - 1.068 X[7] + X[8] == 0.0\n",
       " 1.068 R[8] - 1.068 X[8] + X[9] == 0.0\n",
       " 1.068 R[9] - 1.068 X[9] + X[10] == 0.0\n",
       " 1.068 R[10] - 1.068 X[10] + X[11] == 0.0"
      ]
     },
     "execution_count": 7,
     "metadata": {},
     "output_type": "execute_result"
    }
   ],
   "source": [
    "# Debt owed the beginning of period 2...end\n",
    "@show @constraint(model,\n",
    "    [i in periods],\n",
    "    X[i + 1] == (1 + debt[\"Interest\"]) * (X[i] - R[i])\n",
    ")"
   ]
  },
  {
   "cell_type": "code",
   "execution_count": 8,
   "id": "f8a90564",
   "metadata": {},
   "outputs": [
    {
     "data": {
      "text/plain": [
       "1-dimensional DenseAxisArray{ConstraintRef{Model, MathOptInterface.ConstraintIndex{MathOptInterface.ScalarAffineFunction{Float64}, MathOptInterface.LessThan{Float64}}, ScalarShape},1,...} with index sets:\n",
       "    Dimension 1, 1:10\n",
       "And data, a 10-element Vector{ConstraintRef{Model, MathOptInterface.ConstraintIndex{MathOptInterface.ScalarAffineFunction{Float64}, MathOptInterface.LessThan{Float64}}, ScalarShape}}:\n",
       " S[1] + R[1] <= 4500.0\n",
       " S[2] + R[2] <= 4500.0\n",
       " S[3] + R[3] <= 4500.0\n",
       " S[4] + R[4] <= 4500.0\n",
       " S[5] + R[5] <= 4500.0\n",
       " S[6] + R[6] <= 4500.0\n",
       " S[7] + R[7] <= 4500.0\n",
       " S[8] + R[8] <= 4500.0\n",
       " S[9] + R[9] <= 4500.0\n",
       " S[10] + R[10] <= 4500.0"
      ]
     },
     "execution_count": 8,
     "metadata": {},
     "output_type": "execute_result"
    }
   ],
   "source": [
    "# Monthly expense can't exceed net income\n",
    "@constraint(model,\n",
    "    [i in periods],\n",
    "    S[i] + R[i] <= NET_INCOME\n",
    ")"
   ]
  },
  {
   "cell_type": "markdown",
   "id": "b81b75ca",
   "metadata": {},
   "source": [
    "#### Objective Function"
   ]
  },
  {
   "cell_type": "code",
   "execution_count": 9,
   "id": "19227d41",
   "metadata": {},
   "outputs": [
    {
     "data": {
      "text/latex": [
       "$$ S_{1} + S_{2} + S_{3} + S_{4} + S_{5} + S_{6} + S_{7} + S_{8} + S_{9} + S_{10} $$"
      ],
      "text/plain": [
       "S[1] + S[2] + S[3] + S[4] + S[5] + S[6] + S[7] + S[8] + S[9] + S[10]"
      ]
     },
     "execution_count": 9,
     "metadata": {},
     "output_type": "execute_result"
    }
   ],
   "source": [
    "# Objective function\n",
    "@objective(model, Max, sum(S))"
   ]
  },
  {
   "cell_type": "markdown",
   "id": "346e7c4f",
   "metadata": {},
   "source": [
    "#### Solve Model"
   ]
  },
  {
   "cell_type": "code",
   "execution_count": 10,
   "id": "d63419dd",
   "metadata": {
    "scrolled": true
   },
   "outputs": [
    {
     "data": {
      "text/latex": [
       "$$ \\begin{aligned}\n",
       "\\max\\quad & S_{1} + S_{2} + S_{3} + S_{4} + S_{5} + S_{6} + S_{7} + S_{8} + S_{9} + S_{10}\\\\\n",
       "\\text{Subject to} \\quad & X_{1} = 10000.0\\\\\n",
       " & X_{10} = 0.0\\\\\n",
       " & 1.068 R_{1} - 1.068 X_{1} + X_{2} = 0.0\\\\\n",
       " & 1.068 R_{2} - 1.068 X_{2} + X_{3} = 0.0\\\\\n",
       " & 1.068 R_{3} - 1.068 X_{3} + X_{4} = 0.0\\\\\n",
       " & 1.068 R_{4} - 1.068 X_{4} + X_{5} = 0.0\\\\\n",
       " & 1.068 R_{5} - 1.068 X_{5} + X_{6} = 0.0\\\\\n",
       " & 1.068 R_{6} - 1.068 X_{6} + X_{7} = 0.0\\\\\n",
       " & 1.068 R_{7} - 1.068 X_{7} + X_{8} = 0.0\\\\\n",
       " & 1.068 R_{8} - 1.068 X_{8} + X_{9} = 0.0\\\\\n",
       " & 1.068 R_{9} - 1.068 X_{9} + X_{10} = 0.0\\\\\n",
       " & 1.068 R_{10} - 1.068 X_{10} + X_{11} = 0.0\\\\\n",
       " & S_{1} + R_{1} \\leq 4500.0\\\\\n",
       " & S_{2} + R_{2} \\leq 4500.0\\\\\n",
       " & S_{3} + R_{3} \\leq 4500.0\\\\\n",
       " & S_{4} + R_{4} \\leq 4500.0\\\\\n",
       " & S_{5} + R_{5} \\leq 4500.0\\\\\n",
       " & S_{6} + R_{6} \\leq 4500.0\\\\\n",
       " & S_{7} + R_{7} \\leq 4500.0\\\\\n",
       " & S_{8} + R_{8} \\leq 4500.0\\\\\n",
       " & S_{9} + R_{9} \\leq 4500.0\\\\\n",
       " & S_{10} + R_{10} \\leq 4500.0\\\\\n",
       " & S_{1} \\geq 0.0\\\\\n",
       " & S_{2} \\geq 0.0\\\\\n",
       " & S_{3} \\geq 0.0\\\\\n",
       " & S_{4} \\geq 0.0\\\\\n",
       " & S_{5} \\geq 0.0\\\\\n",
       " & S_{6} \\geq 0.0\\\\\n",
       " & S_{7} \\geq 0.0\\\\\n",
       " & S_{8} \\geq 0.0\\\\\n",
       " & S_{9} \\geq 0.0\\\\\n",
       " & S_{10} \\geq 0.0\\\\\n",
       " & R_{1} \\geq 0.0\\\\\n",
       " & R_{2} \\geq 0.0\\\\\n",
       " & R_{3} \\geq 0.0\\\\\n",
       " & R_{4} \\geq 0.0\\\\\n",
       " & R_{5} \\geq 0.0\\\\\n",
       " & R_{6} \\geq 0.0\\\\\n",
       " & R_{7} \\geq 0.0\\\\\n",
       " & R_{8} \\geq 0.0\\\\\n",
       " & R_{9} \\geq 0.0\\\\\n",
       " & R_{10} \\geq 0.0\\\\\n",
       " & X_{1} \\geq 0.0\\\\\n",
       " & X_{2} \\geq 0.0\\\\\n",
       " & X_{3} \\geq 0.0\\\\\n",
       " & X_{4} \\geq 0.0\\\\\n",
       " & X_{5} \\geq 0.0\\\\\n",
       " & X_{6} \\geq 0.0\\\\\n",
       " & X_{7} \\geq 0.0\\\\\n",
       " & X_{8} \\geq 0.0\\\\\n",
       " & X_{9} \\geq 0.0\\\\\n",
       " & X_{10} \\geq 0.0\\\\\n",
       " & X_{11} \\geq 0.0\\\\\n",
       " & S_{1} \\leq 4500.0\\\\\n",
       " & S_{2} \\leq 4500.0\\\\\n",
       " & S_{3} \\leq 4500.0\\\\\n",
       " & S_{4} \\leq 4500.0\\\\\n",
       " & S_{5} \\leq 4500.0\\\\\n",
       " & S_{6} \\leq 4500.0\\\\\n",
       " & S_{7} \\leq 4500.0\\\\\n",
       " & S_{8} \\leq 4500.0\\\\\n",
       " & S_{9} \\leq 4500.0\\\\\n",
       " & S_{10} \\leq 4500.0\\\\\n",
       " & R_{1} \\leq 4500.0\\\\\n",
       " & R_{2} \\leq 4500.0\\\\\n",
       " & R_{3} \\leq 4500.0\\\\\n",
       " & R_{4} \\leq 4500.0\\\\\n",
       " & R_{5} \\leq 4500.0\\\\\n",
       " & R_{6} \\leq 4500.0\\\\\n",
       " & R_{7} \\leq 4500.0\\\\\n",
       " & R_{8} \\leq 4500.0\\\\\n",
       " & R_{9} \\leq 4500.0\\\\\n",
       " & R_{10} \\leq 4500.0\\\\\n",
       "\\end{aligned} $$"
      ]
     },
     "metadata": {},
     "output_type": "display_data"
    }
   ],
   "source": [
    "print(model)"
   ]
  },
  {
   "cell_type": "code",
   "execution_count": 11,
   "id": "20b6fe14",
   "metadata": {},
   "outputs": [
    {
     "name": "stdout",
     "output_type": "stream",
     "text": [
      "Presolving model\n",
      "16 rows, 24 cols, 39 nonzeros\n",
      "10 rows, 18 cols, 27 nonzeros\n",
      "10 rows, 18 cols, 27 nonzeros\n",
      "Presolve : Reductions: rows 10(-12); columns 18(-13); elements 27(-25)\n",
      "Solving the presolved LP\n",
      "Using EKK dual simplex solver - serial\n",
      "  Iteration        Objective     Infeasibilities num(sum)\n",
      "          0     0.0000000000e+00 Ph1: 0(0) 0s\n",
      "         11    -3.4532568000e+04 Pr: 0(0) 0s\n",
      "Solving the original LP from the solution after postsolve\n",
      "Model   status      : Optimal\n",
      "Simplex   iterations: 11\n",
      "Objective value     :  3.4532568000e+04\n",
      "HiGHS run time      :          0.00\n"
     ]
    }
   ],
   "source": [
    "optimize!(model)"
   ]
  },
  {
   "cell_type": "code",
   "execution_count": 12,
   "id": "c4153d5a",
   "metadata": {},
   "outputs": [
    {
     "name": "stdout",
     "output_type": "stream",
     "text": [
      "termination_status(model) = MathOptInterface.OPTIMAL\n"
     ]
    },
    {
     "data": {
      "text/plain": [
       "OPTIMAL::TerminationStatusCode = 1"
      ]
     },
     "execution_count": 12,
     "metadata": {},
     "output_type": "execute_result"
    }
   ],
   "source": [
    "@show termination_status(model)"
   ]
  },
  {
   "cell_type": "code",
   "execution_count": 13,
   "id": "12772818",
   "metadata": {},
   "outputs": [
    {
     "name": "stdout",
     "output_type": "stream",
     "text": [
      "primal_status(model) = MathOptInterface.FEASIBLE_POINT\n"
     ]
    },
    {
     "data": {
      "text/plain": [
       "FEASIBLE_POINT::ResultStatusCode = 1"
      ]
     },
     "execution_count": 13,
     "metadata": {},
     "output_type": "execute_result"
    }
   ],
   "source": [
    "@show primal_status(model)"
   ]
  },
  {
   "cell_type": "code",
   "execution_count": 14,
   "id": "b5202e89",
   "metadata": {},
   "outputs": [
    {
     "name": "stdout",
     "output_type": "stream",
     "text": [
      "dual_status(model) = MathOptInterface.FEASIBLE_POINT\n"
     ]
    },
    {
     "data": {
      "text/plain": [
       "FEASIBLE_POINT::ResultStatusCode = 1"
      ]
     },
     "execution_count": 14,
     "metadata": {},
     "output_type": "execute_result"
    }
   ],
   "source": [
    "@show dual_status(model)"
   ]
  },
  {
   "cell_type": "code",
   "execution_count": 15,
   "id": "97bcaab8",
   "metadata": {},
   "outputs": [
    {
     "name": "stdout",
     "output_type": "stream",
     "text": [
      "objective_value(model) = 34532.568\n"
     ]
    },
    {
     "data": {
      "text/plain": [
       "34532.568"
      ]
     },
     "execution_count": 15,
     "metadata": {},
     "output_type": "execute_result"
    }
   ],
   "source": [
    "@show objective_value(model)"
   ]
  },
  {
   "cell_type": "code",
   "execution_count": 16,
   "id": "e4a6c368",
   "metadata": {},
   "outputs": [
    {
     "name": "stdout",
     "output_type": "stream",
     "text": [
      "Solving LP without presolve or with basis\n",
      "Model   status      : Optimal\n",
      "Objective value     :  3.4532568000e+04\n",
      "HiGHS run time      :          0.00\n"
     ]
    }
   ],
   "source": [
    "function solve_infeasible(model)\n",
    "    optimize!(model)\n",
    "    if termination_status(model) != OPTIMAL\n",
    "        @warn(\"The model was not solved correctly.\")\n",
    "        return nothing\n",
    "    elseif termination_status(model) == FEASIBLE_POINT\n",
    "        return objective_value(model)\n",
    "    end\n",
    "end\n",
    "\n",
    "solve_infeasible(model)"
   ]
  },
  {
   "cell_type": "code",
   "execution_count": 17,
   "id": "caddeab3",
   "metadata": {},
   "outputs": [],
   "source": [
    "using Printf\n",
    "function print_payment_plan(model)\n",
    "    @printf(\"| %-10s | %-15s | %-10s | %-10s | %-15s | %-10s | %-12s |\\n\",\n",
    "        \"Period\", \"Initial Balance\", \"Payment\", \"Savings\", \n",
    "        \"Int. Rate (%)\", \"Interest\", \"End Balance\"\n",
    "    )\n",
    "    for i in periods\n",
    "        @printf(\"| %10d | %15.2f | %10.2f | %10.2f | %15.2f | %10.2f | %12.2f |\\n\", \n",
    "            i,\n",
    "            value(X[i]), \n",
    "            value(R[i]), \n",
    "            value(S[i]),\n",
    "            debt[\"Interest\"],\n",
    "            if i == 1 0 else value(X[i]) - (value(X[i - 1] ) - value(R[i - 1])) end,\n",
    "            value(X[i]) - value(R[i])\n",
    "        )\n",
    "    end\n",
    "end;"
   ]
  },
  {
   "cell_type": "code",
   "execution_count": 18,
   "id": "65400fdf",
   "metadata": {
    "scrolled": true
   },
   "outputs": [
    {
     "name": "stdout",
     "output_type": "stream",
     "text": [
      "| Period     | Initial Balance | Payment    | Savings    | Int. Rate (%)   | Interest   | End Balance  |\n",
      "|          1 |        10000.00 |    4500.00 |      -0.00 |            0.07 |       0.00 |      5500.00 |\n",
      "|          2 |         5874.00 |    4500.00 |       0.00 |            0.07 |     374.00 |      1374.00 |\n",
      "|          3 |         1467.43 |    1467.43 |    3032.57 |            0.07 |      93.43 |         0.00 |\n",
      "|          4 |           -0.00 |      -0.00 |    4500.00 |            0.07 |      -0.00 |         0.00 |\n",
      "|          5 |           -0.00 |      -0.00 |    4500.00 |            0.07 |      -0.00 |         0.00 |\n",
      "|          6 |           -0.00 |      -0.00 |    4500.00 |            0.07 |      -0.00 |         0.00 |\n",
      "|          7 |           -0.00 |      -0.00 |    4500.00 |            0.07 |      -0.00 |         0.00 |\n",
      "|          8 |           -0.00 |      -0.00 |    4500.00 |            0.07 |      -0.00 |         0.00 |\n",
      "|          9 |           -0.00 |      -0.00 |    4500.00 |            0.07 |      -0.00 |         0.00 |\n",
      "|         10 |           -0.00 |       0.00 |    4500.00 |            0.07 |      -0.00 |        -0.00 |\n"
     ]
    }
   ],
   "source": [
    "print_payment_plan(model)"
   ]
  },
  {
   "cell_type": "code",
   "execution_count": 19,
   "id": "49675e67",
   "metadata": {},
   "outputs": [
    {
     "name": "stdout",
     "output_type": "stream",
     "text": [
      "                                                                                                                      ℑ"
     ]
    }
   ],
   "source": [
    "@printf(\"%119s\", '\\U2111')"
   ]
  }
 ],
 "metadata": {
  "kernelspec": {
   "display_name": "Julia 1.7.2",
   "language": "julia",
   "name": "julia-1.7"
  },
  "language_info": {
   "file_extension": ".jl",
   "mimetype": "application/julia",
   "name": "julia",
   "version": "1.7.2"
  }
 },
 "nbformat": 4,
 "nbformat_minor": 5
}
