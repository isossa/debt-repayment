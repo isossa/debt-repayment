{
 "cells": [
  {
   "cell_type": "markdown",
   "id": "fd828161",
   "metadata": {},
   "source": [
    "### Debt Repayment Plan"
   ]
  },
  {
   "cell_type": "markdown",
   "id": "78274fb8",
   "metadata": {},
   "source": [
    "#### Part 2 - Advanced Case"
   ]
  },
  {
   "cell_type": "markdown",
   "id": "d9888cb5",
   "metadata": {},
   "source": [
    "- Data\n",
    "    - **N**  : Net monthly income\n",
    "    - **M**  : Monthly required savings\n",
    "    - **I<sub>j</sub>**  : Interest paid on loan to lender **j**\n",
    "    \n",
    "\n",
    "- Decision Variables\n",
    "    - **S<sub>i</sub>**  : Monthly savings during period **i**\n",
    "    - **P<sub>ij</sub>**  : Debt paid to lender **j** during month **i**\n",
    "    - **B<sub>ij</sub>**  : Debt owed to lender **j** at the beginning of month **i**"
   ]
  },
  {
   "cell_type": "code",
   "execution_count": 1,
   "id": "6e1d4181",
   "metadata": {},
   "outputs": [],
   "source": [
    "using JuMP\n",
    "import HiGHS"
   ]
  },
  {
   "cell_type": "code",
   "execution_count": 2,
   "id": "a8a65973",
   "metadata": {},
   "outputs": [],
   "source": [
    "# Data\n",
    "data = Dict(\n",
    "    \"lender 1\"        => Dict( \"loan\" => 3200, \"term\" => 4, \"interest\" => 3.8 / 100 ),\n",
    "    \"lender 2\"        => Dict( \"loan\" => 4700, \"term\" => 5, \"interest\" => 7.3 / 100 ),\n",
    "    \"lender 3\"        => Dict( \"loan\" => 6000, \"term\" => 6, \"interest\" => 4.8 / 100 ),\n",
    "    \"lender 4\"        => Dict( \"loan\" => 1500, \"term\" => 4, \"interest\" => 3.9 / 100 ),\n",
    "    \"lender 5\"        => Dict( \"loan\" => 2100, \"term\" => 4, \"interest\" => 8.1 / 100 ),\n",
    "    \"lender 6\"        => Dict( \"loan\" => 500 , \"term\" => 3, \"interest\" => 5.4 / 100 ),\n",
    "    \"lender 7\"        => Dict( \"loan\" => 100 , \"term\" => 1, \"interest\" => 3.2 / 100 ),\n",
    "    \"net_income\"      => 4500,\n",
    "    \"minimum_monthly_savings\" => 1000\n",
    ");"
   ]
  },
  {
   "cell_type": "code",
   "execution_count": 3,
   "id": "4358ae6f",
   "metadata": {},
   "outputs": [
    {
     "data": {
      "text/plain": [
       "7-element Vector{String}:\n",
       " \"lender 1\"\n",
       " \"lender 2\"\n",
       " \"lender 3\"\n",
       " \"lender 4\"\n",
       " \"lender 5\"\n",
       " \"lender 6\"\n",
       " \"lender 7\""
      ]
     },
     "execution_count": 3,
     "metadata": {},
     "output_type": "execute_result"
    }
   ],
   "source": [
    "max_term = maximum(data[loaner][\"term\"] for loaner in keys(data) if contains(loaner, \"lender\"))\n",
    "periods = 1:max_term\n",
    "\n",
    "LENDERS = sort([loaner for loaner in keys(data) if contains(loaner, \"lender\")])"
   ]
  },
  {
   "cell_type": "code",
   "execution_count": 4,
   "id": "e113948c",
   "metadata": {},
   "outputs": [
    {
     "data": {
      "text/plain": [
       "set_model_variables (generic function with 1 method)"
      ]
     },
     "execution_count": 4,
     "metadata": {},
     "output_type": "execute_result"
    }
   ],
   "source": [
    "function set_model_variables(\n",
    "        model::Model, \n",
    "        periods::UnitRange, \n",
    "        NET_INCOME::Number, \n",
    "        MINIMUM_SAVINGS::Number,\n",
    "        LENDERS::Array{String}\n",
    "    )\n",
    "    # Monthly savings\n",
    "    Savings = @variable(model, Saving[periods] >= MINIMUM_SAVINGS );\n",
    "\n",
    "    # Monthly debt reimbursed to each lender\n",
    "    Payments = @variable(model, Payment[periods, LENDERS] >= 0);\n",
    "\n",
    "    # Monthly balance due to each lender\n",
    "    Balances = @variable(model, Balance[cat(periods, periods[end] + 1, dims = 1), LENDERS] >= 0);\n",
    "    \n",
    "    return Savings, Payments, Balances\n",
    "end"
   ]
  },
  {
   "cell_type": "code",
   "execution_count": 5,
   "id": "9ce53b80",
   "metadata": {},
   "outputs": [
    {
     "data": {
      "text/plain": [
       "set_model_constraints (generic function with 1 method)"
      ]
     },
     "execution_count": 5,
     "metadata": {},
     "output_type": "execute_result"
    }
   ],
   "source": [
    "function set_model_constraints( \n",
    "        model::Model, \n",
    "        debt::Dict,\n",
    "        NET_INCOME::Int,\n",
    "        Savings::JuMP.Containers.DenseAxisArray, \n",
    "        Payments::JuMP.Containers.DenseAxisArray, \n",
    "        Balances::JuMP.Containers.DenseAxisArray\n",
    "    )\n",
    "    loan_label = \"loan\"; period_label = \"term\"; interest_label = \"interest\";\n",
    "\n",
    "    # Debt owed at the beginning of period 1 to each lender\n",
    "    @constraint( model, [lender in keys(debt)], Balances[1, lender] == debt[lender][loan_label] )\n",
    "\n",
    "    # Ensure that all debt is paid off by the grace period\n",
    "    @constraint( model, [lender in keys(debt)] , Balances[debt[lender][period_label] + 1, lender] == 0 )\n",
    "\n",
    "    # Debt owed the beginning of period 2...end\n",
    "    @constraint( model, \n",
    "        [i in periods, lender in keys(debt)], \n",
    "        Balances[i + 1, lender] == (1 + debt[lender][interest_label]) * (Balances[i, lender] - Payments[i, lender]) \n",
    "    )\n",
    "\n",
    "    # Monthly expense can't exceed net income\n",
    "    @constraint( model, [i in periods], Savings[i] + sum(Payments[i, LENDERS]) <= NET_INCOME )\n",
    "\n",
    "end"
   ]
  },
  {
   "cell_type": "markdown",
   "id": "c9af2fc1",
   "metadata": {},
   "source": [
    "#### Solve Model"
   ]
  },
  {
   "cell_type": "code",
   "execution_count": 16,
   "id": "bed27202",
   "metadata": {},
   "outputs": [
    {
     "data": {
      "text/plain": [
       "A JuMP Model\n",
       "Feasibility problem with:\n",
       "Variables: 0\n",
       "Model mode: AUTOMATIC\n",
       "CachingOptimizer state: EMPTY_OPTIMIZER\n",
       "Solver name: HiGHS"
      ]
     },
     "execution_count": 16,
     "metadata": {},
     "output_type": "execute_result"
    }
   ],
   "source": [
    "model = Model( HiGHS.Optimizer )"
   ]
  },
  {
   "cell_type": "code",
   "execution_count": 17,
   "id": "1adc719f",
   "metadata": {
    "scrolled": true
   },
   "outputs": [
    {
     "data": {
      "text/plain": [
       "(1-dimensional DenseAxisArray{VariableRef,1,...} with index sets:\n",
       "    Dimension 1, 1:6\n",
       "And data, a 6-element Vector{VariableRef}:\n",
       " Saving[1]\n",
       " Saving[2]\n",
       " Saving[3]\n",
       " Saving[4]\n",
       " Saving[5]\n",
       " Saving[6], 2-dimensional DenseAxisArray{VariableRef,2,...} with index sets:\n",
       "    Dimension 1, 1:6\n",
       "    Dimension 2, [\"lender 1\", \"lender 2\", \"lender 3\", \"lender 4\", \"lender 5\", \"lender 6\", \"lender 7\"]\n",
       "And data, a 6×7 Matrix{VariableRef}:\n",
       " Payment[1,lender 1]  Payment[1,lender 2]  …  Payment[1,lender 7]\n",
       " Payment[2,lender 1]  Payment[2,lender 2]     Payment[2,lender 7]\n",
       " Payment[3,lender 1]  Payment[3,lender 2]     Payment[3,lender 7]\n",
       " Payment[4,lender 1]  Payment[4,lender 2]     Payment[4,lender 7]\n",
       " Payment[5,lender 1]  Payment[5,lender 2]     Payment[5,lender 7]\n",
       " Payment[6,lender 1]  Payment[6,lender 2]  …  Payment[6,lender 7], 2-dimensional DenseAxisArray{VariableRef,2,...} with index sets:\n",
       "    Dimension 1, [1, 2, 3, 4, 5, 6, 7]\n",
       "    Dimension 2, [\"lender 1\", \"lender 2\", \"lender 3\", \"lender 4\", \"lender 5\", \"lender 6\", \"lender 7\"]\n",
       "And data, a 7×7 Matrix{VariableRef}:\n",
       " Balance[1,lender 1]  Balance[1,lender 2]  …  Balance[1,lender 7]\n",
       " Balance[2,lender 1]  Balance[2,lender 2]     Balance[2,lender 7]\n",
       " Balance[3,lender 1]  Balance[3,lender 2]     Balance[3,lender 7]\n",
       " Balance[4,lender 1]  Balance[4,lender 2]     Balance[4,lender 7]\n",
       " Balance[5,lender 1]  Balance[5,lender 2]     Balance[5,lender 7]\n",
       " Balance[6,lender 1]  Balance[6,lender 2]  …  Balance[6,lender 7]\n",
       " Balance[7,lender 1]  Balance[7,lender 2]     Balance[7,lender 7])"
      ]
     },
     "execution_count": 17,
     "metadata": {},
     "output_type": "execute_result"
    }
   ],
   "source": [
    "Savings, Payments, Balance = set_model_variables(model, periods, data[\"net_income\"], data[\"minimum_monthly_savings\"], LENDERS)"
   ]
  },
  {
   "cell_type": "code",
   "execution_count": 18,
   "id": "7797a6ec",
   "metadata": {},
   "outputs": [
    {
     "data": {
      "text/plain": [
       "1-dimensional DenseAxisArray{ConstraintRef{Model, MathOptInterface.ConstraintIndex{MathOptInterface.ScalarAffineFunction{Float64}, MathOptInterface.LessThan{Float64}}, ScalarShape},1,...} with index sets:\n",
       "    Dimension 1, 1:6\n",
       "And data, a 6-element Vector{ConstraintRef{Model, MathOptInterface.ConstraintIndex{MathOptInterface.ScalarAffineFunction{Float64}, MathOptInterface.LessThan{Float64}}, ScalarShape}}:\n",
       " Saving[1] + Payment[1,lender 1] + Payment[1,lender 2] + Payment[1,lender 3] + Payment[1,lender 4] + Payment[1,lender 5] + Payment[1,lender 6] + Payment[1,lender 7] <= 4500.0\n",
       " Saving[2] + Payment[2,lender 1] + Payment[2,lender 2] + Payment[2,lender 3] + Payment[2,lender 4] + Payment[2,lender 5] + Payment[2,lender 6] + Payment[2,lender 7] <= 4500.0\n",
       " Saving[3] + Payment[3,lender 1] + Payment[3,lender 2] + Payment[3,lender 3] + Payment[3,lender 4] + Payment[3,lender 5] + Payment[3,lender 6] + Payment[3,lender 7] <= 4500.0\n",
       " Saving[4] + Payment[4,lender 1] + Payment[4,lender 2] + Payment[4,lender 3] + Payment[4,lender 4] + Payment[4,lender 5] + Payment[4,lender 6] + Payment[4,lender 7] <= 4500.0\n",
       " Saving[5] + Payment[5,lender 1] + Payment[5,lender 2] + Payment[5,lender 3] + Payment[5,lender 4] + Payment[5,lender 5] + Payment[5,lender 6] + Payment[5,lender 7] <= 4500.0\n",
       " Saving[6] + Payment[6,lender 1] + Payment[6,lender 2] + Payment[6,lender 3] + Payment[6,lender 4] + Payment[6,lender 5] + Payment[6,lender 6] + Payment[6,lender 7] <= 4500.0"
      ]
     },
     "execution_count": 18,
     "metadata": {},
     "output_type": "execute_result"
    }
   ],
   "source": [
    "debt = Dict(lender => data[lender] for lender in LENDERS)\n",
    "set_model_constraints( model, debt, data[\"net_income\"], Savings, Payments, Balance )"
   ]
  },
  {
   "cell_type": "code",
   "execution_count": 19,
   "id": "a07a81f3",
   "metadata": {},
   "outputs": [
    {
     "data": {
      "text/latex": [
       "$$ Saving_{1} + Saving_{2} + Saving_{3} + Saving_{4} + Saving_{5} + Saving_{6} $$"
      ],
      "text/plain": [
       "Saving[1] + Saving[2] + Saving[3] + Saving[4] + Saving[5] + Saving[6]"
      ]
     },
     "execution_count": 19,
     "metadata": {},
     "output_type": "execute_result"
    }
   ],
   "source": [
    "@objective(model, Max, sum(Savings))"
   ]
  },
  {
   "cell_type": "code",
   "execution_count": 20,
   "id": "0f748502",
   "metadata": {},
   "outputs": [
    {
     "data": {
      "text/latex": [
       "$$ \\begin{aligned}\n",
       "\\max\\quad & Saving_{1} + Saving_{2} + Saving_{3} + Saving_{4} + Saving_{5} + Saving_{6}\\\\\n",
       "\\text{Subject to} \\quad & Balance_{1,lender 3} = 6000.0\\\\\n",
       " & Balance_{1,lender 6} = 500.0\\\\\n",
       " & Balance_{1,lender 7} = 100.0\\\\\n",
       " & Balance_{1,lender 2} = 4700.0\\\\\n",
       " & Balance_{1,lender 1} = 3200.0\\\\\n",
       " & Balance_{1,lender 5} = 2100.0\\\\\n",
       " & Balance_{1,lender 4} = 1500.0\\\\\n",
       " & Balance_{7,lender 3} = 0.0\\\\\n",
       " & Balance_{4,lender 6} = 0.0\\\\\n",
       " & Balance_{2,lender 7} = 0.0\\\\\n",
       " & Balance_{6,lender 2} = 0.0\\\\\n",
       " & Balance_{5,lender 1} = 0.0\\\\\n",
       " & Balance_{5,lender 5} = 0.0\\\\\n",
       " & Balance_{5,lender 4} = 0.0\\\\\n",
       " & 1.048 Payment_{1,lender 3} - 1.048 Balance_{1,lender 3} + Balance_{2,lender 3} = 0.0\\\\\n",
       " & 1.048 Payment_{2,lender 3} - 1.048 Balance_{2,lender 3} + Balance_{3,lender 3} = 0.0\\\\\n",
       " & 1.048 Payment_{3,lender 3} - 1.048 Balance_{3,lender 3} + Balance_{4,lender 3} = 0.0\\\\\n",
       " & 1.048 Payment_{4,lender 3} - 1.048 Balance_{4,lender 3} + Balance_{5,lender 3} = 0.0\\\\\n",
       " & 1.048 Payment_{5,lender 3} - 1.048 Balance_{5,lender 3} + Balance_{6,lender 3} = 0.0\\\\\n",
       " & 1.048 Payment_{6,lender 3} - 1.048 Balance_{6,lender 3} + Balance_{7,lender 3} = 0.0\\\\\n",
       " & 1.054 Payment_{1,lender 6} - 1.054 Balance_{1,lender 6} + Balance_{2,lender 6} = 0.0\\\\\n",
       " & 1.054 Payment_{2,lender 6} - 1.054 Balance_{2,lender 6} + Balance_{3,lender 6} = 0.0\\\\\n",
       " & 1.054 Payment_{3,lender 6} - 1.054 Balance_{3,lender 6} + Balance_{4,lender 6} = 0.0\\\\\n",
       " & 1.054 Payment_{4,lender 6} - 1.054 Balance_{4,lender 6} + Balance_{5,lender 6} = 0.0\\\\\n",
       " & 1.054 Payment_{5,lender 6} - 1.054 Balance_{5,lender 6} + Balance_{6,lender 6} = 0.0\\\\\n",
       " & 1.054 Payment_{6,lender 6} - 1.054 Balance_{6,lender 6} + Balance_{7,lender 6} = 0.0\\\\\n",
       " & 1.032 Payment_{1,lender 7} - 1.032 Balance_{1,lender 7} + Balance_{2,lender 7} = 0.0\\\\\n",
       " & 1.032 Payment_{2,lender 7} - 1.032 Balance_{2,lender 7} + Balance_{3,lender 7} = 0.0\\\\\n",
       " & 1.032 Payment_{3,lender 7} - 1.032 Balance_{3,lender 7} + Balance_{4,lender 7} = 0.0\\\\\n",
       " & 1.032 Payment_{4,lender 7} - 1.032 Balance_{4,lender 7} + Balance_{5,lender 7} = 0.0\\\\\n",
       " & 1.032 Payment_{5,lender 7} - 1.032 Balance_{5,lender 7} + Balance_{6,lender 7} = 0.0\\\\\n",
       " & 1.032 Payment_{6,lender 7} - 1.032 Balance_{6,lender 7} + Balance_{7,lender 7} = 0.0\\\\\n",
       " & 1.073 Payment_{1,lender 2} - 1.073 Balance_{1,lender 2} + Balance_{2,lender 2} = 0.0\\\\\n",
       " & 1.073 Payment_{2,lender 2} - 1.073 Balance_{2,lender 2} + Balance_{3,lender 2} = 0.0\\\\\n",
       " & 1.073 Payment_{3,lender 2} - 1.073 Balance_{3,lender 2} + Balance_{4,lender 2} = 0.0\\\\\n",
       " & 1.073 Payment_{4,lender 2} - 1.073 Balance_{4,lender 2} + Balance_{5,lender 2} = 0.0\\\\\n",
       " & 1.073 Payment_{5,lender 2} - 1.073 Balance_{5,lender 2} + Balance_{6,lender 2} = 0.0\\\\\n",
       " & 1.073 Payment_{6,lender 2} - 1.073 Balance_{6,lender 2} + Balance_{7,lender 2} = 0.0\\\\\n",
       " & 1.038 Payment_{1,lender 1} - 1.038 Balance_{1,lender 1} + Balance_{2,lender 1} = 0.0\\\\\n",
       " & 1.038 Payment_{2,lender 1} - 1.038 Balance_{2,lender 1} + Balance_{3,lender 1} = 0.0\\\\\n",
       " & 1.038 Payment_{3,lender 1} - 1.038 Balance_{3,lender 1} + Balance_{4,lender 1} = 0.0\\\\\n",
       " & 1.038 Payment_{4,lender 1} - 1.038 Balance_{4,lender 1} + Balance_{5,lender 1} = 0.0\\\\\n",
       " & 1.038 Payment_{5,lender 1} - 1.038 Balance_{5,lender 1} + Balance_{6,lender 1} = 0.0\\\\\n",
       " & 1.038 Payment_{6,lender 1} - 1.038 Balance_{6,lender 1} + Balance_{7,lender 1} = 0.0\\\\\n",
       " & 1.081 Payment_{1,lender 5} - 1.081 Balance_{1,lender 5} + Balance_{2,lender 5} = 0.0\\\\\n",
       " & 1.081 Payment_{2,lender 5} - 1.081 Balance_{2,lender 5} + Balance_{3,lender 5} = 0.0\\\\\n",
       " & 1.081 Payment_{3,lender 5} - 1.081 Balance_{3,lender 5} + Balance_{4,lender 5} = 0.0\\\\\n",
       " & 1.081 Payment_{4,lender 5} - 1.081 Balance_{4,lender 5} + Balance_{5,lender 5} = 0.0\\\\\n",
       " & 1.081 Payment_{5,lender 5} - 1.081 Balance_{5,lender 5} + Balance_{6,lender 5} = 0.0\\\\\n",
       " & 1.081 Payment_{6,lender 5} - 1.081 Balance_{6,lender 5} + Balance_{7,lender 5} = 0.0\\\\\n",
       " & 1.039 Payment_{1,lender 4} - 1.039 Balance_{1,lender 4} + Balance_{2,lender 4} = 0.0\\\\\n",
       " & 1.039 Payment_{2,lender 4} - 1.039 Balance_{2,lender 4} + Balance_{3,lender 4} = 0.0\\\\\n",
       " & 1.039 Payment_{3,lender 4} - 1.039 Balance_{3,lender 4} + Balance_{4,lender 4} = 0.0\\\\\n",
       " & 1.039 Payment_{4,lender 4} - 1.039 Balance_{4,lender 4} + Balance_{5,lender 4} = 0.0\\\\\n",
       " & 1.039 Payment_{5,lender 4} - 1.039 Balance_{5,lender 4} + Balance_{6,lender 4} = 0.0\\\\\n",
       " & 1.039 Payment_{6,lender 4} - 1.039 Balance_{6,lender 4} + Balance_{7,lender 4} = 0.0\\\\\n",
       " & Saving_{1} + Payment_{1,lender 1} + Payment_{1,lender 2} + Payment_{1,lender 3} + Payment_{1,lender 4} + Payment_{1,lender 5} + Payment_{1,lender 6} + Payment_{1,lender 7} \\leq 4500.0\\\\\n",
       " & Saving_{2} + Payment_{2,lender 1} + Payment_{2,lender 2} + Payment_{2,lender 3} + Payment_{2,lender 4} + Payment_{2,lender 5} + Payment_{2,lender 6} + Payment_{2,lender 7} \\leq 4500.0\\\\\n",
       " & Saving_{3} + Payment_{3,lender 1} + Payment_{3,lender 2} + Payment_{3,lender 3} + Payment_{3,lender 4} + Payment_{3,lender 5} + Payment_{3,lender 6} + Payment_{3,lender 7} \\leq 4500.0\\\\\n",
       " & Saving_{4} + Payment_{4,lender 1} + Payment_{4,lender 2} + Payment_{4,lender 3} + Payment_{4,lender 4} + Payment_{4,lender 5} + Payment_{4,lender 6} + Payment_{4,lender 7} \\leq 4500.0\\\\\n",
       " & Saving_{5} + Payment_{5,lender 1} + Payment_{5,lender 2} + Payment_{5,lender 3} + Payment_{5,lender 4} + Payment_{5,lender 5} + Payment_{5,lender 6} + Payment_{5,lender 7} \\leq 4500.0\\\\\n",
       " & Saving_{6} + Payment_{6,lender 1} + Payment_{6,lender 2} + Payment_{6,lender 3} + Payment_{6,lender 4} + Payment_{6,lender 5} + Payment_{6,lender 6} + Payment_{6,lender 7} \\leq 4500.0\\\\\n",
       " & Saving_{1} \\geq 1000.0\\\\\n",
       " & Saving_{2} \\geq 1000.0\\\\\n",
       " & Saving_{3} \\geq 1000.0\\\\\n",
       " & Saving_{4} \\geq 1000.0\\\\\n",
       " & Saving_{5} \\geq 1000.0\\\\\n",
       " & Saving_{6} \\geq 1000.0\\\\\n",
       " & Payment_{1,lender 1} \\geq 0.0\\\\\n",
       " & Payment_{2,lender 1} \\geq 0.0\\\\\n",
       " & Payment_{3,lender 1} \\geq 0.0\\\\\n",
       " & Payment_{4,lender 1} \\geq 0.0\\\\\n",
       " & Payment_{5,lender 1} \\geq 0.0\\\\\n",
       " & Payment_{6,lender 1} \\geq 0.0\\\\\n",
       " & Payment_{1,lender 2} \\geq 0.0\\\\\n",
       " & Payment_{2,lender 2} \\geq 0.0\\\\\n",
       " & Payment_{3,lender 2} \\geq 0.0\\\\\n",
       " & Payment_{4,lender 2} \\geq 0.0\\\\\n",
       " & Payment_{5,lender 2} \\geq 0.0\\\\\n",
       " & Payment_{6,lender 2} \\geq 0.0\\\\\n",
       " & Payment_{1,lender 3} \\geq 0.0\\\\\n",
       " & Payment_{2,lender 3} \\geq 0.0\\\\\n",
       " & Payment_{3,lender 3} \\geq 0.0\\\\\n",
       " & Payment_{4,lender 3} \\geq 0.0\\\\\n",
       " & Payment_{5,lender 3} \\geq 0.0\\\\\n",
       " & Payment_{6,lender 3} \\geq 0.0\\\\\n",
       " & Payment_{1,lender 4} \\geq 0.0\\\\\n",
       " & Payment_{2,lender 4} \\geq 0.0\\\\\n",
       " & Payment_{3,lender 4} \\geq 0.0\\\\\n",
       " & Payment_{4,lender 4} \\geq 0.0\\\\\n",
       " & Payment_{5,lender 4} \\geq 0.0\\\\\n",
       " & Payment_{6,lender 4} \\geq 0.0\\\\\n",
       " & Payment_{1,lender 5} \\geq 0.0\\\\\n",
       " & Payment_{2,lender 5} \\geq 0.0\\\\\n",
       " & Payment_{3,lender 5} \\geq 0.0\\\\\n",
       " & Payment_{4,lender 5} \\geq 0.0\\\\\n",
       " & Payment_{5,lender 5} \\geq 0.0\\\\\n",
       " & Payment_{6,lender 5} \\geq 0.0\\\\\n",
       " & Payment_{1,lender 6} \\geq 0.0\\\\\n",
       " & Payment_{2,lender 6} \\geq 0.0\\\\\n",
       " & Payment_{3,lender 6} \\geq 0.0\\\\\n",
       " & Payment_{4,lender 6} \\geq 0.0\\\\\n",
       " & Payment_{5,lender 6} \\geq 0.0\\\\\n",
       " & Payment_{6,lender 6} \\geq 0.0\\\\\n",
       " & Payment_{1,lender 7} \\geq 0.0\\\\\n",
       " & Payment_{2,lender 7} \\geq 0.0\\\\\n",
       " & Payment_{3,lender 7} \\geq 0.0\\\\\n",
       " & Payment_{4,lender 7} \\geq 0.0\\\\\n",
       " & Payment_{5,lender 7} \\geq 0.0\\\\\n",
       " & Payment_{6,lender 7} \\geq 0.0\\\\\n",
       " & Balance_{1,lender 1} \\geq 0.0\\\\\n",
       " & Balance_{2,lender 1} \\geq 0.0\\\\\n",
       " & Balance_{3,lender 1} \\geq 0.0\\\\\n",
       " & Balance_{4,lender 1} \\geq 0.0\\\\\n",
       " & Balance_{5,lender 1} \\geq 0.0\\\\\n",
       " & Balance_{6,lender 1} \\geq 0.0\\\\\n",
       " & Balance_{7,lender 1} \\geq 0.0\\\\\n",
       " & Balance_{1,lender 2} \\geq 0.0\\\\\n",
       " & Balance_{2,lender 2} \\geq 0.0\\\\\n",
       " & Balance_{3,lender 2} \\geq 0.0\\\\\n",
       " & Balance_{4,lender 2} \\geq 0.0\\\\\n",
       " & Balance_{5,lender 2} \\geq 0.0\\\\\n",
       " & Balance_{6,lender 2} \\geq 0.0\\\\\n",
       " & Balance_{7,lender 2} \\geq 0.0\\\\\n",
       " & Balance_{1,lender 3} \\geq 0.0\\\\\n",
       " & Balance_{2,lender 3} \\geq 0.0\\\\\n",
       " & Balance_{3,lender 3} \\geq 0.0\\\\\n",
       " & Balance_{4,lender 3} \\geq 0.0\\\\\n",
       " & Balance_{5,lender 3} \\geq 0.0\\\\\n",
       " & Balance_{6,lender 3} \\geq 0.0\\\\\n",
       " & Balance_{7,lender 3} \\geq 0.0\\\\\n",
       " & Balance_{1,lender 4} \\geq 0.0\\\\\n",
       " & Balance_{2,lender 4} \\geq 0.0\\\\\n",
       " & Balance_{3,lender 4} \\geq 0.0\\\\\n",
       " & Balance_{4,lender 4} \\geq 0.0\\\\\n",
       " & Balance_{5,lender 4} \\geq 0.0\\\\\n",
       " & Balance_{6,lender 4} \\geq 0.0\\\\\n",
       " & Balance_{7,lender 4} \\geq 0.0\\\\\n",
       " & Balance_{1,lender 5} \\geq 0.0\\\\\n",
       " & Balance_{2,lender 5} \\geq 0.0\\\\\n",
       " & Balance_{3,lender 5} \\geq 0.0\\\\\n",
       " & Balance_{4,lender 5} \\geq 0.0\\\\\n",
       " & Balance_{5,lender 5} \\geq 0.0\\\\\n",
       " & Balance_{6,lender 5} \\geq 0.0\\\\\n",
       " & Balance_{7,lender 5} \\geq 0.0\\\\\n",
       " & Balance_{1,lender 6} \\geq 0.0\\\\\n",
       " & Balance_{2,lender 6} \\geq 0.0\\\\\n",
       " & Balance_{3,lender 6} \\geq 0.0\\\\\n",
       " & Balance_{4,lender 6} \\geq 0.0\\\\\n",
       " & Balance_{5,lender 6} \\geq 0.0\\\\\n",
       " & Balance_{6,lender 6} \\geq 0.0\\\\\n",
       " & Balance_{7,lender 6} \\geq 0.0\\\\\n",
       " & Balance_{1,lender 7} \\geq 0.0\\\\\n",
       " & Balance_{2,lender 7} \\geq 0.0\\\\\n",
       " & Balance_{3,lender 7} \\geq 0.0\\\\\n",
       " & Balance_{4,lender 7} \\geq 0.0\\\\\n",
       " & Balance_{5,lender 7} \\geq 0.0\\\\\n",
       " & Balance_{6,lender 7} \\geq 0.0\\\\\n",
       " & Balance_{7,lender 7} \\geq 0.0\\\\\n",
       "\\end{aligned} $$"
      ]
     },
     "metadata": {},
     "output_type": "display_data"
    }
   ],
   "source": [
    "print(model)"
   ]
  },
  {
   "cell_type": "code",
   "execution_count": 21,
   "id": "6cc3e6d8",
   "metadata": {},
   "outputs": [
    {
     "name": "stdout",
     "output_type": "stream",
     "text": [
      "Presolving model\n",
      "20 rows, 40 cols, 74 nonzeros\n",
      "11 rows, 31 cols, 56 nonzeros\n",
      "11 rows, 31 cols, 56 nonzeros\n",
      "Presolve : Reductions: rows 11(-51); columns 31(-66); elements 56(-132)\n",
      "Solving the presolved LP\n",
      "Using EKK dual simplex solver - serial\n",
      "  Iteration        Objective     Infeasibilities num(sum)\n",
      "          0    -4.9999922038e+00 Ph1: 5(5); Du: 5(4.99999) 0s\n",
      "         22    -6.8379122112e+03 Pr: 0(0) 0s\n",
      "Solving the original LP from the solution after postsolve\n",
      "Model   status      : Optimal\n",
      "Simplex   iterations: 22\n",
      "Objective value     :  6.8379122112e+03\n",
      "HiGHS run time      :          0.00\n"
     ]
    },
    {
     "data": {
      "text/plain": [
       "6837.912211234662"
      ]
     },
     "execution_count": 21,
     "metadata": {},
     "output_type": "execute_result"
    }
   ],
   "source": [
    "function solve_infeasible(model)\n",
    "    optimize!(model)\n",
    "    if termination_status(model) == OPTIMAL\n",
    "        return objective_value(model)\n",
    "    else\n",
    "        @warn(\"The model was not solved correctly.\")\n",
    "        return nothing\n",
    "    end\n",
    "end\n",
    "\n",
    "solve_infeasible(model)"
   ]
  },
  {
   "cell_type": "code",
   "execution_count": 22,
   "id": "424ca7ac",
   "metadata": {},
   "outputs": [],
   "source": [
    "using Printf\n",
    "function print_payment_plan( \n",
    "        model::Model,\n",
    "        debt::Dict,\n",
    "        Savings::JuMP.Containers.DenseAxisArray, \n",
    "        Payments::JuMP.Containers.DenseAxisArray, \n",
    "        Balances::JuMP.Containers.DenseAxisArray\n",
    "    )\n",
    "    @printf(\"| %-10s | %-10s | %-10s | %-10s | %-10s | %-10s | %-10s | %-12s | %5s |\\n\",\n",
    "        \"Period\", \"Lender\", \"Balance\", \"Payment\", \"Savings\", \n",
    "        \"Rate (%)\", \"Interest\", \"End Balance\", \"Term\"\n",
    "    )\n",
    "    cumulative_savings = cumsum([value(Savings[i]) for i in periods])\n",
    "    for i in periods\n",
    "        first_print = true\n",
    "        for lender in LENDERS\n",
    "            start_balance = value(Balances[i, lender])\n",
    "            end_balance = value(Balances[i, lender]) - value(Payments[i, lender])\n",
    "            payment = value(Payments[i, lender])\n",
    "            interest = ( \n",
    "                i == 1 ? 0 \n",
    "                : \n",
    "                value(Balances[i, lender]) - (value(Balances[i - 1, lender] ) - value(Payments[i - 1, lender])) \n",
    "            )\n",
    "            @printf(\"| %10s | %-10s | %10.2f | %10.2f | %10s | %10.2f | %10.2f | %12.2f | %5s |\\n\", \n",
    "                if first_print i else \"-\" end,\n",
    "                lender,\n",
    "                start_balance > 0 ? start_balance : 0.00,\n",
    "                payment > 0 ? payment : 0.00, \n",
    "                \"-\",\n",
    "                debt[lender][\"interest\"],\n",
    "                interest > 0 ? interest : 0.00,\n",
    "                end_balance > 0 ? end_balance : 0.00,\n",
    "                debt[lender][\"term\"]\n",
    "            )\n",
    "            first_print = false\n",
    "        end\n",
    "        @printf(\"| %10s | %-10s | %10s | %10s | %10.2f | %10s | %10s | %12s | %5s |\\n\", \n",
    "                \"-\",\n",
    "                \"-\",\n",
    "                \"-\", \n",
    "                \"-\", \n",
    "                cumulative_savings[i],\n",
    "                \"-\",\n",
    "                \"-\",\n",
    "                \"-\",\n",
    "                \"-\"\n",
    "            )\n",
    "    end\n",
    "end;"
   ]
  },
  {
   "cell_type": "code",
   "execution_count": 23,
   "id": "54b826f1",
   "metadata": {
    "scrolled": false
   },
   "outputs": [
    {
     "name": "stdout",
     "output_type": "stream",
     "text": [
      "| Period     | Lender     | Balance    | Payment    | Savings    | Rate (%)   | Interest   | End Balance  |  Term |\n",
      "|          1 | lender 1   |    3200.00 |       0.00 |          - |       0.04 |       0.00 |      3200.00 |     4 |\n",
      "|          - | lender 2   |    4700.00 |    1300.00 |          - |       0.07 |       0.00 |      3400.00 |     5 |\n",
      "|          - | lender 3   |    6000.00 |       0.00 |          - |       0.05 |       0.00 |      6000.00 |     6 |\n",
      "|          - | lender 4   |    1500.00 |       0.00 |          - |       0.04 |       0.00 |      1500.00 |     4 |\n",
      "|          - | lender 5   |    2100.00 |    2100.00 |          - |       0.08 |       0.00 |         0.00 |     4 |\n",
      "|          - | lender 6   |     500.00 |       0.00 |          - |       0.05 |       0.00 |       500.00 |     3 |\n",
      "|          - | lender 7   |     100.00 |     100.00 |          - |       0.03 |       0.00 |         0.00 |     1 |\n",
      "|          - | -          |          - |          - |    1000.00 |          - |          - |            - |     - |\n",
      "|          2 | lender 1   |    3321.60 |       0.00 |          - |       0.04 |     121.60 |      3321.60 |     4 |\n",
      "|          - | lender 2   |    3648.20 |    3500.00 |          - |       0.07 |     248.20 |       148.20 |     5 |\n",
      "|          - | lender 3   |    6288.00 |       0.00 |          - |       0.05 |     288.00 |      6288.00 |     6 |\n",
      "|          - | lender 4   |    1558.50 |       0.00 |          - |       0.04 |      58.50 |      1558.50 |     4 |\n",
      "|          - | lender 5   |       0.00 |       0.00 |          - |       0.08 |       0.00 |         0.00 |     4 |\n",
      "|          - | lender 6   |     527.00 |       0.00 |          - |       0.05 |      27.00 |       527.00 |     3 |\n",
      "|          - | lender 7   |       0.00 |       0.00 |          - |       0.03 |       0.00 |         0.00 |     1 |\n",
      "|          - | -          |          - |          - |    2000.00 |          - |          - |            - |     - |\n",
      "|          3 | lender 1   |    3447.82 |      75.95 |          - |       0.04 |     126.22 |      3371.87 |     4 |\n",
      "|          - | lender 2   |     159.02 |     159.02 |          - |       0.07 |      10.82 |         0.00 |     5 |\n",
      "|          - | lender 3   |    6589.82 |    1090.29 |          - |       0.05 |     301.82 |      5499.53 |     6 |\n",
      "|          - | lender 4   |    1619.28 |    1619.28 |          - |       0.04 |      60.78 |         0.00 |     4 |\n",
      "|          - | lender 5   |       0.00 |       0.00 |          - |       0.08 |       0.00 |         0.00 |     4 |\n",
      "|          - | lender 6   |     555.46 |     555.46 |          - |       0.05 |      28.46 |         0.00 |     3 |\n",
      "|          - | lender 7   |       0.00 |       0.00 |          - |       0.03 |       0.00 |         0.00 |     1 |\n",
      "|          - | -          |          - |          - |    3000.00 |          - |          - |            - |     - |\n",
      "|          4 | lender 1   |    3500.00 |    3500.00 |          - |       0.04 |     128.13 |         0.00 |     4 |\n",
      "|          - | lender 2   |       0.00 |       0.00 |          - |       0.07 |       0.00 |         0.00 |     5 |\n",
      "|          - | lender 3   |    5763.51 |       0.00 |          - |       0.05 |     263.98 |      5763.51 |     6 |\n",
      "|          - | lender 4   |       0.00 |       0.00 |          - |       0.04 |       0.00 |         0.00 |     4 |\n",
      "|          - | lender 5   |       0.00 |       0.00 |          - |       0.08 |       0.00 |         0.00 |     4 |\n",
      "|          - | lender 6   |       0.00 |       0.00 |          - |       0.05 |       0.00 |         0.00 |     3 |\n",
      "|          - | lender 7   |       0.00 |       0.00 |          - |       0.03 |       0.00 |         0.00 |     1 |\n",
      "|          - | -          |          - |          - |    4000.00 |          - |          - |            - |     - |\n",
      "|          5 | lender 1   |       0.00 |       0.00 |          - |       0.04 |       0.00 |         0.00 |     4 |\n",
      "|          - | lender 2   |       0.00 |       0.00 |          - |       0.07 |       0.00 |         0.00 |     5 |\n",
      "|          - | lender 3   |    6040.16 |    3500.00 |          - |       0.05 |     276.65 |      2540.16 |     6 |\n",
      "|          - | lender 4   |       0.00 |       0.00 |          - |       0.04 |       0.00 |         0.00 |     4 |\n",
      "|          - | lender 5   |       0.00 |       0.00 |          - |       0.08 |       0.00 |         0.00 |     4 |\n",
      "|          - | lender 6   |       0.00 |       0.00 |          - |       0.05 |       0.00 |         0.00 |     3 |\n",
      "|          - | lender 7   |       0.00 |       0.00 |          - |       0.03 |       0.00 |         0.00 |     1 |\n",
      "|          - | -          |          - |          - |    5000.00 |          - |          - |            - |     - |\n",
      "|          6 | lender 1   |       0.00 |       0.00 |          - |       0.04 |       0.00 |         0.00 |     4 |\n",
      "|          - | lender 2   |       0.00 |       0.00 |          - |       0.07 |       0.00 |         0.00 |     5 |\n",
      "|          - | lender 3   |    2662.09 |    2662.09 |          - |       0.05 |     121.93 |         0.00 |     6 |\n",
      "|          - | lender 4   |       0.00 |       0.00 |          - |       0.04 |       0.00 |         0.00 |     4 |\n",
      "|          - | lender 5   |       0.00 |       0.00 |          - |       0.08 |       0.00 |         0.00 |     4 |\n",
      "|          - | lender 6   |       0.00 |       0.00 |          - |       0.05 |       0.00 |         0.00 |     3 |\n",
      "|          - | lender 7   |       0.00 |       0.00 |          - |       0.03 |       0.00 |         0.00 |     1 |\n",
      "|          - | -          |          - |          - |    6837.91 |          - |          - |            - |     - |\n"
     ]
    }
   ],
   "source": [
    "if termination_status(model) == OPTIMAL\n",
    "    print_payment_plan(model, debt, Savings, Payments, Balance)\n",
    "end"
   ]
  },
  {
   "cell_type": "code",
   "execution_count": 24,
   "id": "cf561f56",
   "metadata": {},
   "outputs": [
    {
     "name": "stdout",
     "output_type": "stream",
     "text": [
      "                                                                                                                      ℑ"
     ]
    }
   ],
   "source": [
    "@printf(\"%119s\", '\\U2111')"
   ]
  },
  {
   "cell_type": "code",
   "execution_count": null,
   "id": "f1397b02",
   "metadata": {},
   "outputs": [],
   "source": []
  }
 ],
 "metadata": {
  "kernelspec": {
   "display_name": "Julia 1.7.2",
   "language": "julia",
   "name": "julia-1.7"
  },
  "language_info": {
   "file_extension": ".jl",
   "mimetype": "application/julia",
   "name": "julia",
   "version": "1.7.2"
  }
 },
 "nbformat": 4,
 "nbformat_minor": 5
}
