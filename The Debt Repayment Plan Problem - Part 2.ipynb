{
 "cells": [
  {
   "cell_type": "markdown",
   "id": "52eb89d7",
   "metadata": {},
   "source": [
    "### Debt Repayment Plan"
   ]
  },
  {
   "cell_type": "markdown",
   "id": "9bbcb129",
   "metadata": {},
   "source": [
    "#### Part 2 - Advanced Case"
   ]
  },
  {
   "cell_type": "markdown",
   "id": "a9c1a912",
   "metadata": {},
   "source": [
    "- Data\n",
    "    - **N<sub>i</sub>**  : Monthly income during period **i**\n",
    "    - **E<sub>i</sub>**  : Monthly expense during period **i**\n",
    "    - **M<sub>i</sub>**  : Monthly required savings during period **i**\n",
    "    - **I**              : Interest paid on loan\n",
    "    \n",
    "\n",
    "- Decision Variables\n",
    "    - **S<sub>i</sub>**  : Monthly savings during period **i**\n",
    "    - **R<sub>i</sub>**  : Debt paid during month **i**\n",
    "    - **X<sub>i</sub>**  : Debt owed at the beginning of month **i**"
   ]
  },
  {
   "cell_type": "code",
   "execution_count": 1,
   "id": "b078c9ec",
   "metadata": {},
   "outputs": [],
   "source": [
    "using JuMP\n",
    "import HiGHS"
   ]
  },
  {
   "cell_type": "code",
   "execution_count": null,
   "id": "08ede108",
   "metadata": {},
   "outputs": [],
   "source": []
  }
 ],
 "metadata": {
  "kernelspec": {
   "display_name": "Julia 1.7.2",
   "language": "julia",
   "name": "julia-1.7"
  },
  "language_info": {
   "file_extension": ".jl",
   "mimetype": "application/julia",
   "name": "julia",
   "version": "1.7.2"
  }
 },
 "nbformat": 4,
 "nbformat_minor": 5
}
