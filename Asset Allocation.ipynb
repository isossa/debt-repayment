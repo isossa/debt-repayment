{
 "cells": [
  {
   "cell_type": "code",
   "execution_count": 1,
   "id": "beb07d5e",
   "metadata": {},
   "outputs": [],
   "source": [
    "using JuMP\n",
    "using HiGHS\n",
    "using Random"
   ]
  },
  {
   "cell_type": "markdown",
   "id": "2a636e61",
   "metadata": {},
   "source": [
    "### Setup"
   ]
  },
  {
   "cell_type": "code",
   "execution_count": 2,
   "id": "1c95ef46",
   "metadata": {},
   "outputs": [
    {
     "data": {
      "text/plain": [
       "get_funds (generic function with 2 methods)"
      ]
     },
     "execution_count": 2,
     "metadata": {},
     "output_type": "execute_result"
    }
   ],
   "source": [
    "function get_funds(n::Int64, seed::Int64=30)\n",
    "    generator = MersenneTwister(seed)\n",
    "    data = Dict() \n",
    "    for i in 1:n\n",
    "        data[\"fund $i\"] = Dict(\"expected return\"   => rand(generator) > 0.5 ? -rand(generator) : rand(generator),\n",
    "                               \"annualized return\" => rand(generator) > 0.5 ? -rand(generator) : rand(generator)\n",
    "                          )\n",
    "    end\n",
    "    return data\n",
    "end"
   ]
  },
  {
   "cell_type": "code",
   "execution_count": 3,
   "id": "fbfaf511",
   "metadata": {},
   "outputs": [],
   "source": [
    "funds = get_funds(50, 100);"
   ]
  },
  {
   "cell_type": "code",
   "execution_count": 4,
   "id": "87629a22",
   "metadata": {},
   "outputs": [],
   "source": [
    "__TOTAL_FUNDS__ = length(funds);"
   ]
  },
  {
   "cell_type": "markdown",
   "id": "c910b0d2",
   "metadata": {},
   "source": [
    "### Modeling"
   ]
  },
  {
   "cell_type": "code",
   "execution_count": 15,
   "id": "d7376d21",
   "metadata": {},
   "outputs": [
    {
     "data": {
      "text/plain": [
       "A JuMP Model\n",
       "Feasibility problem with:\n",
       "Variables: 0\n",
       "Model mode: AUTOMATIC\n",
       "CachingOptimizer state: EMPTY_OPTIMIZER\n",
       "Solver name: HiGHS"
      ]
     },
     "execution_count": 15,
     "metadata": {},
     "output_type": "execute_result"
    }
   ],
   "source": [
    "model = Model(HiGHS.Optimizer)"
   ]
  },
  {
   "cell_type": "code",
   "execution_count": 16,
   "id": "eebdc25f",
   "metadata": {},
   "outputs": [
    {
     "data": {
      "text/plain": [
       "1-dimensional DenseAxisArray{VariableRef,1,...} with index sets:\n",
       "    Dimension 1, [\"fund 40\", \"fund 42\", \"fund 50\", \"fund 19\", \"fund 10\", \"fund 12\", \"fund 35\", \"fund 48\", \"fund 25\", \"fund 1\"  …  \"fund 30\", \"fund 33\", \"fund 39\", \"fund 43\", \"fund 3\", \"fund 5\", \"fund 45\", \"fund 7\", \"fund 34\", \"fund 46\"]\n",
       "And data, a 50-element Vector{VariableRef}:\n",
       " Allocation[fund 40]\n",
       " Allocation[fund 42]\n",
       " Allocation[fund 50]\n",
       " Allocation[fund 19]\n",
       " Allocation[fund 10]\n",
       " Allocation[fund 12]\n",
       " Allocation[fund 35]\n",
       " Allocation[fund 48]\n",
       " Allocation[fund 25]\n",
       " Allocation[fund 1]\n",
       " Allocation[fund 28]\n",
       " Allocation[fund 17]\n",
       " Allocation[fund 21]\n",
       " ⋮\n",
       " Allocation[fund 38]\n",
       " Allocation[fund 27]\n",
       " Allocation[fund 30]\n",
       " Allocation[fund 33]\n",
       " Allocation[fund 39]\n",
       " Allocation[fund 43]\n",
       " Allocation[fund 3]\n",
       " Allocation[fund 5]\n",
       " Allocation[fund 45]\n",
       " Allocation[fund 7]\n",
       " Allocation[fund 34]\n",
       " Allocation[fund 46]"
      ]
     },
     "execution_count": 16,
     "metadata": {},
     "output_type": "execute_result"
    }
   ],
   "source": [
    "# Percentage of capital allocated to each fund\n",
    "@variable(model, Allocation[key in keys(funds)] >= 0)"
   ]
  },
  {
   "cell_type": "code",
   "execution_count": 17,
   "id": "d1915b3a",
   "metadata": {},
   "outputs": [
    {
     "data": {
      "text/latex": [
       "$$ Allocation_{fund 40} + Allocation_{fund 42} + Allocation_{fund 50} + Allocation_{fund 19} + Allocation_{fund 10} + Allocation_{fund 12} + Allocation_{fund 35} + Allocation_{fund 48} + Allocation_{fund 25} + Allocation_{fund 1} + Allocation_{fund 28} + Allocation_{fund 17} + Allocation_{fund 21} + Allocation_{fund 18} + Allocation_{fund 11} + Allocation_{fund 2} + Allocation_{fund 23} + Allocation_{fund 20} + Allocation_{fund 15} + Allocation_{fund 29} + Allocation_{fund 26} + Allocation_{fund 16} + Allocation_{fund 37} + Allocation_{fund 44} + Allocation_{fund 22} + Allocation_{fund 49} + Allocation_{fund 31} + Allocation_{fund 4} + Allocation_{fund 13} + Allocation_{fund 47} + Allocation_{fund 8} + Allocation_{fund 24} + Allocation_{fund 32} + Allocation_{fund 36} + Allocation_{fund 6} + Allocation_{fund 14} + Allocation_{fund 41} + Allocation_{fund 9} + Allocation_{fund 38} + Allocation_{fund 27} + Allocation_{fund 30} + Allocation_{fund 33} + Allocation_{fund 39} + Allocation_{fund 43} + Allocation_{fund 3} + Allocation_{fund 5} + Allocation_{fund 45} + Allocation_{fund 7} + Allocation_{fund 34} + Allocation_{fund 46} = 100.0 $$"
      ],
      "text/plain": [
       "Allocation[fund 40] + Allocation[fund 42] + Allocation[fund 50] + Allocation[fund 19] + Allocation[fund 10] + Allocation[fund 12] + Allocation[fund 35] + Allocation[fund 48] + Allocation[fund 25] + Allocation[fund 1] + Allocation[fund 28] + Allocation[fund 17] + Allocation[fund 21] + Allocation[fund 18] + Allocation[fund 11] + Allocation[fund 2] + Allocation[fund 23] + Allocation[fund 20] + Allocation[fund 15] + Allocation[fund 29] + Allocation[fund 26] + Allocation[fund 16] + Allocation[fund 37] + Allocation[fund 44] + Allocation[fund 22] + Allocation[fund 49] + Allocation[fund 31] + Allocation[fund 4] + Allocation[fund 13] + Allocation[fund 47] + Allocation[fund 8] + Allocation[fund 24] + Allocation[fund 32] + Allocation[fund 36] + Allocation[fund 6] + Allocation[fund 14] + Allocation[fund 41] + Allocation[fund 9] + Allocation[fund 38] + Allocation[fund 27] + Allocation[fund 30] + Allocation[fund 33] + Allocation[fund 39] + Allocation[fund 43] + Allocation[fund 3] + Allocation[fund 5] + Allocation[fund 45] + Allocation[fund 7] + Allocation[fund 34] + Allocation[fund 46] == 100.0"
      ]
     },
     "execution_count": 17,
     "metadata": {},
     "output_type": "execute_result"
    }
   ],
   "source": [
    "# Total allocated to all fund should equal 100%\n",
    "@constraint(model, sum(Allocation) == 100)"
   ]
  },
  {
   "cell_type": "code",
   "execution_count": 18,
   "id": "dacfde52",
   "metadata": {},
   "outputs": [
    {
     "data": {
      "text/plain": [
       "1-dimensional DenseAxisArray{ConstraintRef{Model, MathOptInterface.ConstraintIndex{MathOptInterface.ScalarAffineFunction{Float64}, MathOptInterface.LessThan{Float64}}, ScalarShape},1,...} with index sets:\n",
       "    Dimension 1, [\"fund 40\", \"fund 42\", \"fund 50\", \"fund 19\", \"fund 10\", \"fund 12\", \"fund 35\", \"fund 48\", \"fund 25\", \"fund 1\"  …  \"fund 30\", \"fund 33\", \"fund 39\", \"fund 43\", \"fund 3\", \"fund 5\", \"fund 45\", \"fund 7\", \"fund 34\", \"fund 46\"]\n",
       "And data, a 50-element Vector{ConstraintRef{Model, MathOptInterface.ConstraintIndex{MathOptInterface.ScalarAffineFunction{Float64}, MathOptInterface.LessThan{Float64}}, ScalarShape}}:\n",
       " Allocation[fund 40] <= 25.0\n",
       " Allocation[fund 42] <= 25.0\n",
       " Allocation[fund 50] <= 25.0\n",
       " Allocation[fund 19] <= 25.0\n",
       " Allocation[fund 10] <= 25.0\n",
       " Allocation[fund 12] <= 25.0\n",
       " Allocation[fund 35] <= 25.0\n",
       " Allocation[fund 48] <= 25.0\n",
       " Allocation[fund 25] <= 25.0\n",
       " Allocation[fund 1] <= 25.0\n",
       " Allocation[fund 28] <= 25.0\n",
       " Allocation[fund 17] <= 25.0\n",
       " Allocation[fund 21] <= 25.0\n",
       " ⋮\n",
       " Allocation[fund 38] <= 25.0\n",
       " Allocation[fund 27] <= 25.0\n",
       " Allocation[fund 30] <= 25.0\n",
       " Allocation[fund 33] <= 25.0\n",
       " Allocation[fund 39] <= 25.0\n",
       " Allocation[fund 43] <= 25.0\n",
       " Allocation[fund 3] <= 25.0\n",
       " Allocation[fund 5] <= 25.0\n",
       " Allocation[fund 45] <= 25.0\n",
       " Allocation[fund 7] <= 25.0\n",
       " Allocation[fund 34] <= 25.0\n",
       " Allocation[fund 46] <= 25.0"
      ]
     },
     "execution_count": 18,
     "metadata": {},
     "output_type": "execute_result"
    }
   ],
   "source": [
    "# No fund should receive more than 50% of available captial\n",
    "@constraint(model, [fund in keys(funds)], Allocation[fund] <= 25)"
   ]
  },
  {
   "cell_type": "code",
   "execution_count": 19,
   "id": "d279b84e",
   "metadata": {},
   "outputs": [
    {
     "data": {
      "text/plain": [
       "1-dimensional DenseAxisArray{ConstraintRef{Model, MathOptInterface.ConstraintIndex{MathOptInterface.ScalarAffineFunction{Float64}, MathOptInterface.GreaterThan{Float64}}, ScalarShape},1,...} with index sets:\n",
       "    Dimension 1, [\"fund 40\", \"fund 42\", \"fund 50\", \"fund 19\", \"fund 10\", \"fund 12\", \"fund 35\", \"fund 48\", \"fund 25\", \"fund 1\"  …  \"fund 30\", \"fund 33\", \"fund 39\", \"fund 43\", \"fund 3\", \"fund 5\", \"fund 45\", \"fund 7\", \"fund 34\", \"fund 46\"]\n",
       "And data, a 50-element Vector{ConstraintRef{Model, MathOptInterface.ConstraintIndex{MathOptInterface.ScalarAffineFunction{Float64}, MathOptInterface.GreaterThan{Float64}}, ScalarShape}}:\n",
       " Allocation[fund 40] >= 1.0\n",
       " Allocation[fund 42] >= 1.0\n",
       " Allocation[fund 50] >= 1.0\n",
       " Allocation[fund 19] >= 1.0\n",
       " Allocation[fund 10] >= 1.0\n",
       " Allocation[fund 12] >= 1.0\n",
       " Allocation[fund 35] >= 1.0\n",
       " Allocation[fund 48] >= 1.0\n",
       " Allocation[fund 25] >= 1.0\n",
       " Allocation[fund 1] >= 1.0\n",
       " Allocation[fund 28] >= 1.0\n",
       " Allocation[fund 17] >= 1.0\n",
       " Allocation[fund 21] >= 1.0\n",
       " ⋮\n",
       " Allocation[fund 38] >= 1.0\n",
       " Allocation[fund 27] >= 1.0\n",
       " Allocation[fund 30] >= 1.0\n",
       " Allocation[fund 33] >= 1.0\n",
       " Allocation[fund 39] >= 1.0\n",
       " Allocation[fund 43] >= 1.0\n",
       " Allocation[fund 3] >= 1.0\n",
       " Allocation[fund 5] >= 1.0\n",
       " Allocation[fund 45] >= 1.0\n",
       " Allocation[fund 7] >= 1.0\n",
       " Allocation[fund 34] >= 1.0\n",
       " Allocation[fund 46] >= 1.0"
      ]
     },
     "execution_count": 19,
     "metadata": {},
     "output_type": "execute_result"
    }
   ],
   "source": [
    "# Any fund must receive a minimum allocation greater than 0\n",
    "@constraint(model, [fund in keys(funds)], Allocation[fund] >= 1.0)"
   ]
  },
  {
   "cell_type": "code",
   "execution_count": 20,
   "id": "5c9099c1",
   "metadata": {},
   "outputs": [
    {
     "data": {
      "text/latex": [
       "$$ 1.551033017992303 Allocation_{fund 40} - 1.040201124186483 Allocation_{fund 42} + 0.15198895044004757 Allocation_{fund 50} + 0.702019596907856 Allocation_{fund 19} - 0.0828566122156742 Allocation_{fund 10} + 0.322389847665016 Allocation_{fund 12} + 1.112804259178323 Allocation_{fund 35} - 0.892220253538901 Allocation_{fund 48} - 0.16065857660767602 Allocation_{fund 25} + 0.12311964423142441 Allocation_{fund 1} - 0.9839568566452981 Allocation_{fund 28} - 1.43302600175762 Allocation_{fund 17} + 1.0315180763072245 Allocation_{fund 21} + 0.3015372681204509 Allocation_{fund 18} + 0.45671452487601116 Allocation_{fund 11} - 1.1725358858194055 Allocation_{fund 2} - 1.0511712080095226 Allocation_{fund 23} - 0.6884417490615553 Allocation_{fund 20} - 1.4436231055944706 Allocation_{fund 15} + 0.17384401326863275 Allocation_{fund 29} - 0.36441384221945383 Allocation_{fund 26} + 0.5419014081752187 Allocation_{fund 16} - 0.3758357839350428 Allocation_{fund 37} + 0.004358782992474719 Allocation_{fund 44} + 1.0009835046763693 Allocation_{fund 22} + 1.13674812494532 Allocation_{fund 49} - 0.049543458064165824 Allocation_{fund 31} - 0.8037973631468744 Allocation_{fund 4} + 0.4645383163285193 Allocation_{fund 13} + 1.6427886817548718 Allocation_{fund 47} + 1.3534832326013562 Allocation_{fund 8} + 1.3062952179152703 Allocation_{fund 24} - 0.7765213734175811 Allocation_{fund 32} - 0.4200435611961837 Allocation_{fund 36} + 0.6665269858287051 Allocation_{fund 6} - 0.6600060088053938 Allocation_{fund 14} - 0.5656059500287087 Allocation_{fund 41} + 0.15706158414493054 Allocation_{fund 9} + 0.053119791154881524 Allocation_{fund 38} + 1.7527217429168265 Allocation_{fund 27} + 0.6600996688029852 Allocation_{fund 30} - 0.3883632369875385 Allocation_{fund 33} - 0.776470684561303 Allocation_{fund 39} + 1.315895020194516 Allocation_{fund 43} - 0.34420410407900204 Allocation_{fund 3} - 0.5454132457601208 Allocation_{fund 5} + 0.2811505044650118 Allocation_{fund 45} - 0.027702852307212922 Allocation_{fund 7} - 0.3941481471545185 Allocation_{fund 34} - 0.18365423186800478 Allocation_{fund 46} $$"
      ],
      "text/plain": [
       "1.551033017992303 Allocation[fund 40] - 1.040201124186483 Allocation[fund 42] + 0.15198895044004757 Allocation[fund 50] + 0.702019596907856 Allocation[fund 19] - 0.0828566122156742 Allocation[fund 10] + 0.322389847665016 Allocation[fund 12] + 1.112804259178323 Allocation[fund 35] - 0.892220253538901 Allocation[fund 48] - 0.16065857660767602 Allocation[fund 25] + 0.12311964423142441 Allocation[fund 1] - 0.9839568566452981 Allocation[fund 28] - 1.43302600175762 Allocation[fund 17] + 1.0315180763072245 Allocation[fund 21] + 0.3015372681204509 Allocation[fund 18] + 0.45671452487601116 Allocation[fund 11] - 1.1725358858194055 Allocation[fund 2] - 1.0511712080095226 Allocation[fund 23] - 0.6884417490615553 Allocation[fund 20] - 1.4436231055944706 Allocation[fund 15] + 0.17384401326863275 Allocation[fund 29] - 0.36441384221945383 Allocation[fund 26] + 0.5419014081752187 Allocation[fund 16] - 0.3758357839350428 Allocation[fund 37] + 0.004358782992474719 Allocation[fund 44] + 1.0009835046763693 Allocation[fund 22] + 1.13674812494532 Allocation[fund 49] - 0.049543458064165824 Allocation[fund 31] - 0.8037973631468744 Allocation[fund 4] + 0.4645383163285193 Allocation[fund 13] + 1.6427886817548718 Allocation[fund 47] + 1.3534832326013562 Allocation[fund 8] + 1.3062952179152703 Allocation[fund 24] - 0.7765213734175811 Allocation[fund 32] - 0.4200435611961837 Allocation[fund 36] + 0.6665269858287051 Allocation[fund 6] - 0.6600060088053938 Allocation[fund 14] - 0.5656059500287087 Allocation[fund 41] + 0.15706158414493054 Allocation[fund 9] + 0.053119791154881524 Allocation[fund 38] + 1.7527217429168265 Allocation[fund 27] + 0.6600996688029852 Allocation[fund 30] - 0.3883632369875385 Allocation[fund 33] - 0.776470684561303 Allocation[fund 39] + 1.315895020194516 Allocation[fund 43] - 0.34420410407900204 Allocation[fund 3] - 0.5454132457601208 Allocation[fund 5] + 0.2811505044650118 Allocation[fund 45] - 0.027702852307212922 Allocation[fund 7] - 0.3941481471545185 Allocation[fund 34] - 0.18365423186800478 Allocation[fund 46]"
      ]
     },
     "execution_count": 20,
     "metadata": {},
     "output_type": "execute_result"
    }
   ],
   "source": [
    "#M Maximize total return\n",
    "@objective(model, Max, sum( (funds[fund][\"expected return\"] + funds[fund][\"annualized return\"]) * Allocation[fund] for fund in keys(funds)))"
   ]
  },
  {
   "cell_type": "code",
   "execution_count": 21,
   "id": "9b6f8b59",
   "metadata": {
    "scrolled": true
   },
   "outputs": [
    {
     "data": {
      "text/latex": [
       "$$ \\begin{aligned}\n",
       "\\max\\quad & 1.551033017992303 Allocation_{fund 40} - 1.040201124186483 Allocation_{fund 42} + 0.15198895044004757 Allocation_{fund 50} + 0.702019596907856 Allocation_{fund 19} - 0.0828566122156742 Allocation_{fund 10} + 0.322389847665016 Allocation_{fund 12} + 1.112804259178323 Allocation_{fund 35} - 0.892220253538901 Allocation_{fund 48} - 0.16065857660767602 Allocation_{fund 25} + 0.12311964423142441 Allocation_{fund 1} - 0.9839568566452981 Allocation_{fund 28} - 1.43302600175762 Allocation_{fund 17} + 1.0315180763072245 Allocation_{fund 21} + 0.3015372681204509 Allocation_{fund 18} + 0.45671452487601116 Allocation_{fund 11} - 1.1725358858194055 Allocation_{fund 2} - 1.0511712080095226 Allocation_{fund 23} - 0.6884417490615553 Allocation_{fund 20} - 1.4436231055944706 Allocation_{fund 15} + 0.17384401326863275 Allocation_{fund 29} - 0.36441384221945383 Allocation_{fund 26} + 0.5419014081752187 Allocation_{fund 16} - 0.3758357839350428 Allocation_{fund 37} + 0.004358782992474719 Allocation_{fund 44} + 1.0009835046763693 Allocation_{fund 22} + 1.13674812494532 Allocation_{fund 49} - 0.049543458064165824 Allocation_{fund 31} - 0.8037973631468744 Allocation_{fund 4} + 0.4645383163285193 Allocation_{fund 13} + 1.6427886817548718 Allocation_{fund 47} + 1.3534832326013562 Allocation_{fund 8} + 1.3062952179152703 Allocation_{fund 24} - 0.7765213734175811 Allocation_{fund 32} - 0.4200435611961837 Allocation_{fund 36} + 0.6665269858287051 Allocation_{fund 6} - 0.6600060088053938 Allocation_{fund 14} - 0.5656059500287087 Allocation_{fund 41} + 0.15706158414493054 Allocation_{fund 9} + 0.053119791154881524 Allocation_{fund 38} + 1.7527217429168265 Allocation_{fund 27} + 0.6600996688029852 Allocation_{fund 30} - 0.3883632369875385 Allocation_{fund 33} - 0.776470684561303 Allocation_{fund 39} + 1.315895020194516 Allocation_{fund 43} - 0.34420410407900204 Allocation_{fund 3} - 0.5454132457601208 Allocation_{fund 5} + 0.2811505044650118 Allocation_{fund 45} - 0.027702852307212922 Allocation_{fund 7} - 0.3941481471545185 Allocation_{fund 34} - 0.18365423186800478 Allocation_{fund 46}\\\\\n",
       "\\text{Subject to} \\quad & Allocation_{fund 40} + Allocation_{fund 42} + Allocation_{fund 50} + Allocation_{fund 19} + Allocation_{fund 10} + Allocation_{fund 12} + Allocation_{fund 35} + Allocation_{fund 48} + Allocation_{fund 25} + Allocation_{fund 1} + Allocation_{fund 28} + Allocation_{fund 17} + Allocation_{fund 21} + Allocation_{fund 18} + Allocation_{fund 11} + Allocation_{fund 2} + Allocation_{fund 23} + Allocation_{fund 20} + Allocation_{fund 15} + Allocation_{fund 29} + Allocation_{fund 26} + Allocation_{fund 16} + Allocation_{fund 37} + Allocation_{fund 44} + Allocation_{fund 22} + Allocation_{fund 49} + Allocation_{fund 31} + Allocation_{fund 4} + Allocation_{fund 13} + Allocation_{fund 47} + Allocation_{fund 8} + Allocation_{fund 24} + Allocation_{fund 32} + Allocation_{fund 36} + Allocation_{fund 6} + Allocation_{fund 14} + Allocation_{fund 41} + Allocation_{fund 9} + Allocation_{fund 38} + Allocation_{fund 27} + Allocation_{fund 30} + Allocation_{fund 33} + Allocation_{fund 39} + Allocation_{fund 43} + Allocation_{fund 3} + Allocation_{fund 5} + Allocation_{fund 45} + Allocation_{fund 7} + Allocation_{fund 34} + Allocation_{fund 46} = 100.0\\\\\n",
       " & Allocation_{fund 40} \\geq 1.0\\\\\n",
       " & Allocation_{fund 42} \\geq 1.0\\\\\n",
       " & Allocation_{fund 50} \\geq 1.0\\\\\n",
       " & Allocation_{fund 19} \\geq 1.0\\\\\n",
       " & Allocation_{fund 10} \\geq 1.0\\\\\n",
       " & Allocation_{fund 12} \\geq 1.0\\\\\n",
       " & Allocation_{fund 35} \\geq 1.0\\\\\n",
       " & Allocation_{fund 48} \\geq 1.0\\\\\n",
       " & Allocation_{fund 25} \\geq 1.0\\\\\n",
       " & Allocation_{fund 1} \\geq 1.0\\\\\n",
       " & Allocation_{fund 28} \\geq 1.0\\\\\n",
       " & Allocation_{fund 17} \\geq 1.0\\\\\n",
       " & Allocation_{fund 21} \\geq 1.0\\\\\n",
       " & Allocation_{fund 18} \\geq 1.0\\\\\n",
       " & Allocation_{fund 11} \\geq 1.0\\\\\n",
       " & Allocation_{fund 2} \\geq 1.0\\\\\n",
       " & Allocation_{fund 23} \\geq 1.0\\\\\n",
       " & Allocation_{fund 20} \\geq 1.0\\\\\n",
       " & Allocation_{fund 15} \\geq 1.0\\\\\n",
       " & Allocation_{fund 29} \\geq 1.0\\\\\n",
       " & Allocation_{fund 26} \\geq 1.0\\\\\n",
       " & Allocation_{fund 16} \\geq 1.0\\\\\n",
       " & Allocation_{fund 37} \\geq 1.0\\\\\n",
       " & Allocation_{fund 44} \\geq 1.0\\\\\n",
       " & Allocation_{fund 22} \\geq 1.0\\\\\n",
       " & Allocation_{fund 49} \\geq 1.0\\\\\n",
       " & Allocation_{fund 31} \\geq 1.0\\\\\n",
       " & Allocation_{fund 4} \\geq 1.0\\\\\n",
       " & Allocation_{fund 13} \\geq 1.0\\\\\n",
       " & Allocation_{fund 47} \\geq 1.0\\\\\n",
       " & Allocation_{fund 8} \\geq 1.0\\\\\n",
       " & Allocation_{fund 24} \\geq 1.0\\\\\n",
       " & Allocation_{fund 32} \\geq 1.0\\\\\n",
       " & Allocation_{fund 36} \\geq 1.0\\\\\n",
       " & Allocation_{fund 6} \\geq 1.0\\\\\n",
       " & Allocation_{fund 14} \\geq 1.0\\\\\n",
       " & Allocation_{fund 41} \\geq 1.0\\\\\n",
       " & Allocation_{fund 9} \\geq 1.0\\\\\n",
       " & Allocation_{fund 38} \\geq 1.0\\\\\n",
       " & Allocation_{fund 27} \\geq 1.0\\\\\n",
       " & Allocation_{fund 30} \\geq 1.0\\\\\n",
       " & Allocation_{fund 33} \\geq 1.0\\\\\n",
       " & Allocation_{fund 39} \\geq 1.0\\\\\n",
       " & Allocation_{fund 43} \\geq 1.0\\\\\n",
       " & Allocation_{fund 3} \\geq 1.0\\\\\n",
       " & Allocation_{fund 5} \\geq 1.0\\\\\n",
       " & Allocation_{fund 45} \\geq 1.0\\\\\n",
       " & Allocation_{fund 7} \\geq 1.0\\\\\n",
       " & Allocation_{fund 34} \\geq 1.0\\\\\n",
       " & Allocation_{fund 46} \\geq 1.0\\\\\n",
       " & Allocation_{fund 40} \\leq 25.0\\\\\n",
       " & Allocation_{fund 42} \\leq 25.0\\\\\n",
       " & Allocation_{fund 50} \\leq 25.0\\\\\n",
       " & Allocation_{fund 19} \\leq 25.0\\\\\n",
       " & Allocation_{fund 10} \\leq 25.0\\\\\n",
       " & Allocation_{fund 12} \\leq 25.0\\\\\n",
       " & Allocation_{fund 35} \\leq 25.0\\\\\n",
       " & Allocation_{fund 48} \\leq 25.0\\\\\n",
       " & Allocation_{fund 25} \\leq 25.0\\\\\n",
       " & Allocation_{fund 1} \\leq 25.0\\\\\n",
       " & Allocation_{fund 28} \\leq 25.0\\\\\n",
       " & Allocation_{fund 17} \\leq 25.0\\\\\n",
       " & Allocation_{fund 21} \\leq 25.0\\\\\n",
       " & Allocation_{fund 18} \\leq 25.0\\\\\n",
       " & Allocation_{fund 11} \\leq 25.0\\\\\n",
       " & Allocation_{fund 2} \\leq 25.0\\\\\n",
       " & Allocation_{fund 23} \\leq 25.0\\\\\n",
       " & Allocation_{fund 20} \\leq 25.0\\\\\n",
       " & Allocation_{fund 15} \\leq 25.0\\\\\n",
       " & Allocation_{fund 29} \\leq 25.0\\\\\n",
       " & Allocation_{fund 26} \\leq 25.0\\\\\n",
       " & Allocation_{fund 16} \\leq 25.0\\\\\n",
       " & Allocation_{fund 37} \\leq 25.0\\\\\n",
       " & Allocation_{fund 44} \\leq 25.0\\\\\n",
       " & Allocation_{fund 22} \\leq 25.0\\\\\n",
       " & Allocation_{fund 49} \\leq 25.0\\\\\n",
       " & Allocation_{fund 31} \\leq 25.0\\\\\n",
       " & Allocation_{fund 4} \\leq 25.0\\\\\n",
       " & Allocation_{fund 13} \\leq 25.0\\\\\n",
       " & Allocation_{fund 47} \\leq 25.0\\\\\n",
       " & Allocation_{fund 8} \\leq 25.0\\\\\n",
       " & Allocation_{fund 24} \\leq 25.0\\\\\n",
       " & Allocation_{fund 32} \\leq 25.0\\\\\n",
       " & Allocation_{fund 36} \\leq 25.0\\\\\n",
       " & Allocation_{fund 6} \\leq 25.0\\\\\n",
       " & Allocation_{fund 14} \\leq 25.0\\\\\n",
       " & Allocation_{fund 41} \\leq 25.0\\\\\n",
       " & Allocation_{fund 9} \\leq 25.0\\\\\n",
       " & Allocation_{fund 38} \\leq 25.0\\\\\n",
       " & Allocation_{fund 27} \\leq 25.0\\\\\n",
       " & Allocation_{fund 30} \\leq 25.0\\\\\n",
       " & Allocation_{fund 33} \\leq 25.0\\\\\n",
       " & Allocation_{fund 39} \\leq 25.0\\\\\n",
       " & Allocation_{fund 43} \\leq 25.0\\\\\n",
       " & Allocation_{fund 3} \\leq 25.0\\\\\n",
       " & Allocation_{fund 5} \\leq 25.0\\\\\n",
       " & Allocation_{fund 45} \\leq 25.0\\\\\n",
       " & Allocation_{fund 7} \\leq 25.0\\\\\n",
       " & Allocation_{fund 34} \\leq 25.0\\\\\n",
       " & Allocation_{fund 46} \\leq 25.0\\\\\n",
       " & Allocation_{fund 40} \\geq 0.0\\\\\n",
       " & Allocation_{fund 42} \\geq 0.0\\\\\n",
       " & Allocation_{fund 50} \\geq 0.0\\\\\n",
       " & Allocation_{fund 19} \\geq 0.0\\\\\n",
       " & Allocation_{fund 10} \\geq 0.0\\\\\n",
       " & Allocation_{fund 12} \\geq 0.0\\\\\n",
       " & Allocation_{fund 35} \\geq 0.0\\\\\n",
       " & Allocation_{fund 48} \\geq 0.0\\\\\n",
       " & Allocation_{fund 25} \\geq 0.0\\\\\n",
       " & Allocation_{fund 1} \\geq 0.0\\\\\n",
       " & Allocation_{fund 28} \\geq 0.0\\\\\n",
       " & Allocation_{fund 17} \\geq 0.0\\\\\n",
       " & Allocation_{fund 21} \\geq 0.0\\\\\n",
       " & Allocation_{fund 18} \\geq 0.0\\\\\n",
       " & Allocation_{fund 11} \\geq 0.0\\\\\n",
       " & Allocation_{fund 2} \\geq 0.0\\\\\n",
       " & Allocation_{fund 23} \\geq 0.0\\\\\n",
       " & Allocation_{fund 20} \\geq 0.0\\\\\n",
       " & Allocation_{fund 15} \\geq 0.0\\\\\n",
       " & Allocation_{fund 29} \\geq 0.0\\\\\n",
       " & Allocation_{fund 26} \\geq 0.0\\\\\n",
       " & Allocation_{fund 16} \\geq 0.0\\\\\n",
       " & Allocation_{fund 37} \\geq 0.0\\\\\n",
       " & Allocation_{fund 44} \\geq 0.0\\\\\n",
       " & Allocation_{fund 22} \\geq 0.0\\\\\n",
       " & Allocation_{fund 49} \\geq 0.0\\\\\n",
       " & Allocation_{fund 31} \\geq 0.0\\\\\n",
       " & Allocation_{fund 4} \\geq 0.0\\\\\n",
       " & Allocation_{fund 13} \\geq 0.0\\\\\n",
       " & Allocation_{fund 47} \\geq 0.0\\\\\n",
       " & Allocation_{fund 8} \\geq 0.0\\\\\n",
       " & Allocation_{fund 24} \\geq 0.0\\\\\n",
       " & Allocation_{fund 32} \\geq 0.0\\\\\n",
       " & Allocation_{fund 36} \\geq 0.0\\\\\n",
       " & Allocation_{fund 6} \\geq 0.0\\\\\n",
       " & Allocation_{fund 14} \\geq 0.0\\\\\n",
       " & Allocation_{fund 41} \\geq 0.0\\\\\n",
       " & Allocation_{fund 9} \\geq 0.0\\\\\n",
       " & Allocation_{fund 38} \\geq 0.0\\\\\n",
       " & Allocation_{fund 27} \\geq 0.0\\\\\n",
       " & Allocation_{fund 30} \\geq 0.0\\\\\n",
       " & Allocation_{fund 33} \\geq 0.0\\\\\n",
       " & Allocation_{fund 39} \\geq 0.0\\\\\n",
       " & Allocation_{fund 43} \\geq 0.0\\\\\n",
       " & Allocation_{fund 3} \\geq 0.0\\\\\n",
       " & Allocation_{fund 5} \\geq 0.0\\\\\n",
       " & Allocation_{fund 45} \\geq 0.0\\\\\n",
       " & Allocation_{fund 7} \\geq 0.0\\\\\n",
       " & Allocation_{fund 34} \\geq 0.0\\\\\n",
       " & Allocation_{fund 46} \\geq 0.0\\\\\n",
       "\\end{aligned} $$"
      ]
     },
     "metadata": {},
     "output_type": "display_data"
    }
   ],
   "source": [
    "print(model)"
   ]
  },
  {
   "cell_type": "code",
   "execution_count": 22,
   "id": "cf533d44",
   "metadata": {},
   "outputs": [
    {
     "name": "stdout",
     "output_type": "stream",
     "text": [
      "Presolving model\n",
      "1 rows, 50 cols, 50 nonzeros\n",
      "1 rows, 50 cols, 50 nonzeros\n",
      "Presolve : Reductions: rows 1(-100); columns 50(-0); elements 50(-100)\n",
      "Solving the presolved LP\n",
      "Using EKK dual simplex solver - serial\n",
      "  Iteration        Objective     Infeasibilities num(sum)\n",
      "          0     0.0000000000e+00 Ph1: 0(0) 0s\n",
      "          1    -8.7234542777e+01 Pr: 0(0) 0s\n",
      "Solving the original LP from the solution after postsolve\n",
      "Model   status      : Optimal\n",
      "Simplex   iterations: 1\n",
      "Objective value     :  8.7234542777e+01\n",
      "HiGHS run time      :          0.00\n"
     ]
    }
   ],
   "source": [
    "optimize!(model)"
   ]
  },
  {
   "cell_type": "code",
   "execution_count": 23,
   "id": "7cda22e4",
   "metadata": {},
   "outputs": [
    {
     "data": {
      "text/plain": [
       "87.2345427770222"
      ]
     },
     "execution_count": 23,
     "metadata": {},
     "output_type": "execute_result"
    }
   ],
   "source": [
    "objective_value(model)"
   ]
  },
  {
   "cell_type": "markdown",
   "id": "a1886324",
   "metadata": {},
   "source": [
    "### Post-processing"
   ]
  },
  {
   "cell_type": "code",
   "execution_count": 24,
   "id": "a61057b2",
   "metadata": {},
   "outputs": [
    {
     "name": "stdout",
     "output_type": "stream",
     "text": [
      "|       Fund |    Proj. Return | Annualized | Allocation |\n",
      "| fund 1     |          0.1903 |    -0.0672 |        1.0 |\n",
      "| fund 10    |         -0.0136 |    -0.0693 |        1.0 |\n",
      "| fund 11    |          0.7654 |    -0.3087 |        1.0 |\n",
      "| fund 12    |          0.6789 |    -0.3565 |        1.0 |\n",
      "| fund 13    |         -0.2942 |     0.7588 |        1.0 |\n",
      "| fund 14    |          0.2117 |    -0.8717 |        1.0 |\n",
      "| fund 15    |         -0.6858 |    -0.7579 |        1.0 |\n",
      "| fund 16    |         -0.3606 |     0.9025 |        1.0 |\n",
      "| fund 17    |         -0.9250 |    -0.5081 |        1.0 |\n",
      "| fund 18    |          0.0073 |     0.2942 |        1.0 |\n",
      "| fund 19    |          0.7500 |    -0.0480 |        1.0 |\n",
      "| fund 2     |         -0.6457 |    -0.5268 |        1.0 |\n",
      "| fund 20    |          0.0727 |    -0.7612 |        1.0 |\n",
      "| fund 21    |          0.5670 |     0.4645 |        1.0 |\n",
      "| fund 22    |          0.6913 |     0.3096 |        1.0 |\n",
      "| fund 23    |         -0.2320 |    -0.8192 |        1.0 |\n",
      "| fund 24    |          0.8651 |     0.4412 |        1.0 |\n",
      "| fund 25    |          0.6341 |    -0.7947 |        1.0 |\n",
      "| fund 26    |         -0.0769 |    -0.2875 |        1.0 |\n",
      "| fund 27    |          0.9717 |     0.7811 |       25.0 |\n",
      "| fund 28    |         -0.9302 |    -0.0537 |        1.0 |\n",
      "| fund 29    |         -0.6699 |     0.8437 |        1.0 |\n",
      "| fund 3     |         -0.8682 |     0.5240 |        1.0 |\n",
      "| fund 30    |          0.6242 |     0.0359 |        1.0 |\n",
      "| fund 31    |         -0.6810 |     0.6314 |        1.0 |\n",
      "| fund 32    |         -0.6153 |    -0.1612 |        1.0 |\n",
      "| fund 33    |          0.3000 |    -0.6884 |        1.0 |\n",
      "| fund 34    |         -0.3981 |     0.0040 |        1.0 |\n",
      "| fund 35    |          0.2782 |     0.8346 |        1.0 |\n",
      "| fund 36    |          0.3894 |    -0.8095 |        1.0 |\n",
      "| fund 37    |          0.1799 |    -0.5558 |        1.0 |\n",
      "| fund 38    |         -0.1321 |     0.1852 |        1.0 |\n",
      "| fund 39    |         -0.4814 |    -0.2951 |        1.0 |\n",
      "| fund 4     |         -0.8932 |     0.0894 |        1.0 |\n",
      "| fund 40    |          0.9648 |     0.5862 |        3.0 |\n",
      "| fund 41    |         -0.2999 |    -0.2657 |        1.0 |\n",
      "| fund 42    |         -0.4570 |    -0.5832 |        1.0 |\n",
      "| fund 43    |          0.5084 |     0.8075 |        1.0 |\n",
      "| fund 44    |          0.9565 |    -0.9521 |        1.0 |\n",
      "| fund 45    |         -0.6209 |     0.9021 |        1.0 |\n",
      "| fund 46    |         -0.5592 |     0.3755 |        1.0 |\n",
      "| fund 47    |          0.8459 |     0.7969 |       25.0 |\n",
      "| fund 48    |         -0.0756 |    -0.8166 |        1.0 |\n",
      "| fund 49    |          0.3066 |     0.8302 |        1.0 |\n",
      "| fund 5     |          0.3243 |    -0.8697 |        1.0 |\n",
      "| fund 50    |          0.4947 |    -0.3427 |        1.0 |\n",
      "| fund 6     |          0.3482 |     0.3183 |        1.0 |\n",
      "| fund 7     |          0.0040 |    -0.0317 |        1.0 |\n",
      "| fund 8     |          0.5029 |     0.8506 |        1.0 |\n",
      "| fund 9     |          0.7056 |    -0.5486 |        1.0 |\n"
     ]
    }
   ],
   "source": [
    "using Printf\n",
    "@printf(\"| %10s | %15s | %10s | %10s |\\n\", \"Fund\", \"Proj. Return\", \"Annualized\", \"Allocation\")\n",
    "for fund in sort([fund for fund in keys(funds)])\n",
    "    @printf(\"| %-10s | %15.4f | %10.4f | %10s |\\n\", \n",
    "        fund, \n",
    "        funds[fund][\"expected return\"], \n",
    "        funds[fund][\"annualized return\"],\n",
    "        value(Allocation[fund])\n",
    "    )\n",
    "end"
   ]
  },
  {
   "cell_type": "code",
   "execution_count": null,
   "id": "4f1d7e48",
   "metadata": {},
   "outputs": [],
   "source": []
  },
  {
   "cell_type": "code",
   "execution_count": null,
   "id": "6a5678c1",
   "metadata": {},
   "outputs": [],
   "source": []
  }
 ],
 "metadata": {
  "kernelspec": {
   "display_name": "Julia 1.7.2",
   "language": "julia",
   "name": "julia-1.7"
  },
  "language_info": {
   "file_extension": ".jl",
   "mimetype": "application/julia",
   "name": "julia",
   "version": "1.7.2"
  }
 },
 "nbformat": 4,
 "nbformat_minor": 5
}
