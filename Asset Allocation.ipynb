{
 "cells": [
  {
   "cell_type": "code",
   "execution_count": 48,
   "id": "981e08c5",
   "metadata": {},
   "outputs": [],
   "source": [
    "using JuMP\n",
    "using HiGHS\n",
    "using Random"
   ]
  },
  {
   "cell_type": "markdown",
   "id": "a7f05e4d",
   "metadata": {},
   "source": [
    "### Setup"
   ]
  },
  {
   "cell_type": "code",
   "execution_count": 144,
   "id": "feb2eff0",
   "metadata": {},
   "outputs": [
    {
     "data": {
      "text/plain": [
       "get_funds (generic function with 2 methods)"
      ]
     },
     "execution_count": 144,
     "metadata": {},
     "output_type": "execute_result"
    }
   ],
   "source": [
    "function get_funds(n::Int64, seed::Int64=30)\n",
    "    generator = MersenneTwister(seed)\n",
    "    data = Dict() \n",
    "    for i in 1:n\n",
    "        data[\"fund $i\"] = Dict(\"expected return\" => rand(generator) > 0.5 ? -rand(generator) : rand(generator) )\n",
    "    end\n",
    "    return data\n",
    "end"
   ]
  },
  {
   "cell_type": "code",
   "execution_count": 157,
   "id": "4739d876",
   "metadata": {},
   "outputs": [
    {
     "data": {
      "text/plain": [
       "Dict{Any, Any} with 5 entries:\n",
       "  \"fund 1\" => Dict(\"expected return\"=>0.190313)\n",
       "  \"fund 3\" => Dict(\"expected return\"=>-0.645691)\n",
       "  \"fund 2\" => Dict(\"expected return\"=>-0.0671932)\n",
       "  \"fund 5\" => Dict(\"expected return\"=>-0.868194)\n",
       "  \"fund 4\" => Dict(\"expected return\"=>-0.526845)"
      ]
     },
     "execution_count": 157,
     "metadata": {},
     "output_type": "execute_result"
    }
   ],
   "source": [
    "funds = get_funds(5, 100)"
   ]
  },
  {
   "cell_type": "code",
   "execution_count": 158,
   "id": "0148f2ee",
   "metadata": {},
   "outputs": [
    {
     "data": {
      "text/plain": [
       "5"
      ]
     },
     "execution_count": 158,
     "metadata": {},
     "output_type": "execute_result"
    }
   ],
   "source": [
    "__TOTAL_FUNDS__ = length(funds)"
   ]
  },
  {
   "cell_type": "markdown",
   "id": "75bed259",
   "metadata": {},
   "source": [
    "### Modeling"
   ]
  },
  {
   "cell_type": "code",
   "execution_count": 173,
   "id": "79ada740",
   "metadata": {},
   "outputs": [
    {
     "data": {
      "text/plain": [
       "A JuMP Model\n",
       "Feasibility problem with:\n",
       "Variables: 0\n",
       "Model mode: AUTOMATIC\n",
       "CachingOptimizer state: EMPTY_OPTIMIZER\n",
       "Solver name: HiGHS"
      ]
     },
     "execution_count": 173,
     "metadata": {},
     "output_type": "execute_result"
    }
   ],
   "source": [
    "model = Model(HiGHS.Optimizer)"
   ]
  },
  {
   "cell_type": "code",
   "execution_count": 174,
   "id": "52612592",
   "metadata": {},
   "outputs": [
    {
     "data": {
      "text/plain": [
       "1-dimensional DenseAxisArray{VariableRef,1,...} with index sets:\n",
       "    Dimension 1, [\"fund 1\", \"fund 3\", \"fund 2\", \"fund 5\", \"fund 4\"]\n",
       "And data, a 5-element Vector{VariableRef}:\n",
       " Allocation[fund 1]\n",
       " Allocation[fund 3]\n",
       " Allocation[fund 2]\n",
       " Allocation[fund 5]\n",
       " Allocation[fund 4]"
      ]
     },
     "execution_count": 174,
     "metadata": {},
     "output_type": "execute_result"
    }
   ],
   "source": [
    "# Percentage of capital allocated to each fund\n",
    "@variable(model, Allocation[key in keys(funds)] >= 0)"
   ]
  },
  {
   "cell_type": "code",
   "execution_count": 175,
   "id": "84e6d477",
   "metadata": {},
   "outputs": [
    {
     "data": {
      "text/latex": [
       "$$ Allocation_{fund 1} + Allocation_{fund 3} + Allocation_{fund 2} + Allocation_{fund 5} + Allocation_{fund 4} = 100.0 $$"
      ],
      "text/plain": [
       "Allocation[fund 1] + Allocation[fund 3] + Allocation[fund 2] + Allocation[fund 5] + Allocation[fund 4] == 100.0"
      ]
     },
     "execution_count": 175,
     "metadata": {},
     "output_type": "execute_result"
    }
   ],
   "source": [
    "# Total allocated to all fund can not exceed 100%\n",
    "@constraint(model, sum(Allocation) == 100)"
   ]
  },
  {
   "cell_type": "code",
   "execution_count": 176,
   "id": "80430219",
   "metadata": {},
   "outputs": [
    {
     "data": {
      "text/plain": [
       "1-dimensional DenseAxisArray{ConstraintRef{Model, MathOptInterface.ConstraintIndex{MathOptInterface.ScalarAffineFunction{Float64}, MathOptInterface.LessThan{Float64}}, ScalarShape},1,...} with index sets:\n",
       "    Dimension 1, [\"fund 1\", \"fund 3\", \"fund 2\", \"fund 5\", \"fund 4\"]\n",
       "And data, a 5-element Vector{ConstraintRef{Model, MathOptInterface.ConstraintIndex{MathOptInterface.ScalarAffineFunction{Float64}, MathOptInterface.LessThan{Float64}}, ScalarShape}}:\n",
       " Allocation[fund 1] <= 50.0\n",
       " Allocation[fund 3] <= 50.0\n",
       " Allocation[fund 2] <= 50.0\n",
       " Allocation[fund 5] <= 50.0\n",
       " Allocation[fund 4] <= 50.0"
      ]
     },
     "execution_count": 176,
     "metadata": {},
     "output_type": "execute_result"
    }
   ],
   "source": [
    "# No fund should receive more than 50% of available captial\n",
    "@constraint(model, [fund in keys(funds)], Allocation[fund] <= 50)"
   ]
  },
  {
   "cell_type": "code",
   "execution_count": 177,
   "id": "ad003312",
   "metadata": {},
   "outputs": [
    {
     "data": {
      "text/latex": [
       "$$ 0.19031281518127185 Allocation_{fund 1} - 0.6456910432314067 Allocation_{fund 3} - 0.06719317094984745 Allocation_{fund 2} - 0.8681941503861808 Allocation_{fund 5} - 0.5268448425879988 Allocation_{fund 4} $$"
      ],
      "text/plain": [
       "0.19031281518127185 Allocation[fund 1] - 0.6456910432314067 Allocation[fund 3] - 0.06719317094984745 Allocation[fund 2] - 0.8681941503861808 Allocation[fund 5] - 0.5268448425879988 Allocation[fund 4]"
      ]
     },
     "execution_count": 177,
     "metadata": {},
     "output_type": "execute_result"
    }
   ],
   "source": [
    "#M Maximize total return\n",
    "@objective(model, Max, sum( funds[fund][\"expected return\"] * Allocation[fund] for fund in keys(funds)))"
   ]
  },
  {
   "cell_type": "code",
   "execution_count": 178,
   "id": "e1db55da",
   "metadata": {},
   "outputs": [
    {
     "data": {
      "text/latex": [
       "$$ \\begin{aligned}\n",
       "\\max\\quad & 0.19031281518127185 Allocation_{fund 1} - 0.6456910432314067 Allocation_{fund 3} - 0.06719317094984745 Allocation_{fund 2} - 0.8681941503861808 Allocation_{fund 5} - 0.5268448425879988 Allocation_{fund 4}\\\\\n",
       "\\text{Subject to} \\quad & Allocation_{fund 1} + Allocation_{fund 3} + Allocation_{fund 2} + Allocation_{fund 5} + Allocation_{fund 4} = 100.0\\\\\n",
       " & Allocation_{fund 1} \\leq 50.0\\\\\n",
       " & Allocation_{fund 3} \\leq 50.0\\\\\n",
       " & Allocation_{fund 2} \\leq 50.0\\\\\n",
       " & Allocation_{fund 5} \\leq 50.0\\\\\n",
       " & Allocation_{fund 4} \\leq 50.0\\\\\n",
       " & Allocation_{fund 1} \\geq 0.0\\\\\n",
       " & Allocation_{fund 3} \\geq 0.0\\\\\n",
       " & Allocation_{fund 2} \\geq 0.0\\\\\n",
       " & Allocation_{fund 5} \\geq 0.0\\\\\n",
       " & Allocation_{fund 4} \\geq 0.0\\\\\n",
       "\\end{aligned} $$"
      ]
     },
     "metadata": {},
     "output_type": "display_data"
    }
   ],
   "source": [
    "print(model)"
   ]
  },
  {
   "cell_type": "code",
   "execution_count": 179,
   "id": "fed33c8b",
   "metadata": {},
   "outputs": [
    {
     "name": "stdout",
     "output_type": "stream",
     "text": [
      "Presolving model\n",
      "1 rows, 5 cols, 5 nonzeros\n",
      "1 rows, 5 cols, 5 nonzeros\n",
      "Presolve : Reductions: rows 1(-5); columns 5(-0); elements 5(-5)\n",
      "Solving the presolved LP\n",
      "Using EKK dual simplex solver - serial\n",
      "  Iteration        Objective     Infeasibilities num(sum)\n",
      "          0     0.0000000000e+00 Ph1: 0(0) 0s\n",
      "          1    -6.1559822116e+00 Pr: 0(0) 0s\n",
      "Solving the original LP from the solution after postsolve\n",
      "Model   status      : Optimal\n",
      "Simplex   iterations: 1\n",
      "Objective value     :  6.1559822116e+00\n",
      "HiGHS run time      :          0.00\n"
     ]
    }
   ],
   "source": [
    "optimize!(model)"
   ]
  },
  {
   "cell_type": "code",
   "execution_count": 180,
   "id": "1d8ff7d6",
   "metadata": {},
   "outputs": [
    {
     "data": {
      "text/plain": [
       "6.155982211571221"
      ]
     },
     "execution_count": 180,
     "metadata": {},
     "output_type": "execute_result"
    }
   ],
   "source": [
    "objective_value(model)"
   ]
  },
  {
   "cell_type": "markdown",
   "id": "dfade423",
   "metadata": {},
   "source": [
    "### Post-processing"
   ]
  },
  {
   "cell_type": "code",
   "execution_count": 181,
   "id": "b69a05ee",
   "metadata": {},
   "outputs": [
    {
     "name": "stdout",
     "output_type": "stream",
     "text": [
      "|       Fund |     Return | Allocation |\n",
      "|     fund 1 |     0.1903 |       50.0 |\n",
      "|     fund 2 |    -0.0672 |       50.0 |\n",
      "|     fund 3 |    -0.6457 |        0.0 |\n",
      "|     fund 4 |    -0.5268 |        0.0 |\n",
      "|     fund 5 |    -0.8682 |        0.0 |\n"
     ]
    }
   ],
   "source": [
    "using Printf\n",
    "@printf(\"| %10s | %10s | %10s |\\n\", \"Fund\", \"Return\", \"Allocation\")\n",
    "for fund in sort([fund for fund in keys(funds)])\n",
    "    @printf(\"| %10s | %10.4f | %10s |\\n\", fund, funds[fund][\"expected return\"], value(Allocation[fund]))\n",
    "end"
   ]
  },
  {
   "cell_type": "code",
   "execution_count": null,
   "id": "72e46114",
   "metadata": {},
   "outputs": [],
   "source": []
  },
  {
   "cell_type": "code",
   "execution_count": null,
   "id": "5bcba516",
   "metadata": {},
   "outputs": [],
   "source": []
  }
 ],
 "metadata": {
  "kernelspec": {
   "display_name": "Julia 1.7.2",
   "language": "julia",
   "name": "julia-1.7"
  },
  "language_info": {
   "file_extension": ".jl",
   "mimetype": "application/julia",
   "name": "julia",
   "version": "1.7.2"
  }
 },
 "nbformat": 4,
 "nbformat_minor": 5
}
