{
 "cells": [
  {
   "cell_type": "markdown",
   "id": "bb90d2c0",
   "metadata": {},
   "source": [
    "### Debt Repayment Plan"
   ]
  },
  {
   "cell_type": "markdown",
   "id": "c7523dcf",
   "metadata": {},
   "source": [
    "#### Part 1 - Basic Case"
   ]
  },
  {
   "cell_type": "markdown",
   "id": "0ca849d6",
   "metadata": {},
   "source": [
    "- Data\n",
    "    - **N**  : Net monthly income\n",
    "    - **M**  : Monthly required savings\n",
    "    - **I**  : Interest paid on loan\n",
    "    \n",
    "\n",
    "- Decision Variables\n",
    "    - **S<sub>i</sub>**  : Supplementary monthly savings during period **i**\n",
    "    - **P<sub>i</sub>**  : Debt paid during month **i**\n",
    "    - **B<sub>i</sub>**  : Debt owed at the beginning of month **i**"
   ]
  },
  {
   "cell_type": "code",
   "execution_count": 1,
   "id": "37853f24",
   "metadata": {},
   "outputs": [],
   "source": [
    "using JuMP\n",
    "import HiGHS"
   ]
  },
  {
   "cell_type": "code",
   "execution_count": 2,
   "id": "25d5996a",
   "metadata": {},
   "outputs": [
    {
     "data": {
      "text/plain": [
       "1:10"
      ]
     },
     "execution_count": 2,
     "metadata": {},
     "output_type": "execute_result"
    }
   ],
   "source": [
    "# Data\n",
    "data = Dict(\n",
    "    \"debt\" => Dict(\n",
    "        \"loan\" => 10000,\n",
    "        \"term\" => 10,\n",
    "        \"interest\" => 6.8 / 100\n",
    "    ),\n",
    "    \"net_income\" => 4500,\n",
    "    \"minimum_savings\" => 1000\n",
    ")\n",
    "periods = 1:data[\"debt\"][\"term\"]\n"
   ]
  },
  {
   "cell_type": "code",
   "execution_count": 3,
   "id": "11c293c0",
   "metadata": {},
   "outputs": [
    {
     "data": {
      "text/plain": [
       "set_model_variables (generic function with 1 method)"
      ]
     },
     "execution_count": 3,
     "metadata": {},
     "output_type": "execute_result"
    }
   ],
   "source": [
    "function set_model_variables(model::Model, periods::UnitRange, NET_INCOME::Number, MINIMUM_SAVINGS::Number)\n",
    "    # Monthly savings\n",
    "    Savings = @variable(model, S[periods] >= MINIMUM_SAVINGS );\n",
    "\n",
    "    # Monthly debt reimbursed\n",
    "    Payments = @variable(model, P[periods] >= 0 );\n",
    "\n",
    "    # Monthly balance\n",
    "    Balance = @variable(model, B[cat(periods, periods[end] + 1, dims = 1)] >= 0);\n",
    "    \n",
    "    return Savings, Payments, Balance\n",
    "end"
   ]
  },
  {
   "cell_type": "code",
   "execution_count": 4,
   "id": "8adedfb3",
   "metadata": {},
   "outputs": [
    {
     "data": {
      "text/plain": [
       "set_model_constraints (generic function with 1 method)"
      ]
     },
     "execution_count": 4,
     "metadata": {},
     "output_type": "execute_result"
    }
   ],
   "source": [
    "function set_model_constraints( \n",
    "        model::Model, \n",
    "        debt::Dict,\n",
    "        NET_INCOME::Int,\n",
    "        Savings::JuMP.Containers.DenseAxisArray, \n",
    "        Payments::JuMP.Containers.DenseAxisArray, \n",
    "        Balance::JuMP.Containers.DenseAxisArray\n",
    "    )\n",
    "    loan_label = \"loan\"; period_label = \"term\"; interest_label = \"interest\";\n",
    "    if haskey(debt, loan_label ) && haskey( debt, period_label ) && haskey( debt, interest_label )\n",
    "        # Debt owed at the beginning of period 1\n",
    "        @constraint( model, Balance[1] == debt[loan_label] )\n",
    "\n",
    "        # Ensure that all debt is paid off by the grace period\n",
    "        @constraint( model, Balance[debt[period_label] + 1] == 0 )\n",
    "\n",
    "        # Debt owed the beginning of period 2...end\n",
    "        @constraint( model, [i in periods], Balance[i + 1] == (1 + debt[interest_label]) * (Balance[i] - Payments[i]) )\n",
    "\n",
    "        # Monthly expense can't exceed net income\n",
    "        @constraint( model, [i in periods], Savings[i] + Payments[i] <= NET_INCOME )\n",
    "    end\n",
    "end"
   ]
  },
  {
   "cell_type": "markdown",
   "id": "bedfb60c",
   "metadata": {},
   "source": [
    "#### Solve Model"
   ]
  },
  {
   "cell_type": "code",
   "execution_count": 5,
   "id": "1d174180",
   "metadata": {},
   "outputs": [
    {
     "data": {
      "text/plain": [
       "A JuMP Model\n",
       "Feasibility problem with:\n",
       "Variables: 0\n",
       "Model mode: AUTOMATIC\n",
       "CachingOptimizer state: EMPTY_OPTIMIZER\n",
       "Solver name: HiGHS"
      ]
     },
     "execution_count": 5,
     "metadata": {},
     "output_type": "execute_result"
    }
   ],
   "source": [
    "model = Model( HiGHS.Optimizer )"
   ]
  },
  {
   "cell_type": "code",
   "execution_count": 6,
   "id": "71002b37",
   "metadata": {
    "scrolled": true
   },
   "outputs": [
    {
     "data": {
      "text/plain": [
       "(1-dimensional DenseAxisArray{VariableRef,1,...} with index sets:\n",
       "    Dimension 1, 1:10\n",
       "And data, a 10-element Vector{VariableRef}:\n",
       " S[1]\n",
       " S[2]\n",
       " S[3]\n",
       " S[4]\n",
       " S[5]\n",
       " S[6]\n",
       " S[7]\n",
       " S[8]\n",
       " S[9]\n",
       " S[10], 1-dimensional DenseAxisArray{VariableRef,1,...} with index sets:\n",
       "    Dimension 1, 1:10\n",
       "And data, a 10-element Vector{VariableRef}:\n",
       " P[1]\n",
       " P[2]\n",
       " P[3]\n",
       " P[4]\n",
       " P[5]\n",
       " P[6]\n",
       " P[7]\n",
       " P[8]\n",
       " P[9]\n",
       " P[10], 1-dimensional DenseAxisArray{VariableRef,1,...} with index sets:\n",
       "    Dimension 1, [1, 2, 3, 4, 5, 6, 7, 8, 9, 10, 11]\n",
       "And data, a 11-element Vector{VariableRef}:\n",
       " B[1]\n",
       " B[2]\n",
       " B[3]\n",
       " B[4]\n",
       " B[5]\n",
       " B[6]\n",
       " B[7]\n",
       " B[8]\n",
       " B[9]\n",
       " B[10]\n",
       " B[11])"
      ]
     },
     "execution_count": 6,
     "metadata": {},
     "output_type": "execute_result"
    }
   ],
   "source": [
    "Savings, Payments, Balance = set_model_variables( model, periods, data[\"net_income\"], data[\"minimum_savings\"])"
   ]
  },
  {
   "cell_type": "code",
   "execution_count": 7,
   "id": "ca8d760e",
   "metadata": {
    "scrolled": false
   },
   "outputs": [
    {
     "data": {
      "text/plain": [
       "1-dimensional DenseAxisArray{ConstraintRef{Model, MathOptInterface.ConstraintIndex{MathOptInterface.ScalarAffineFunction{Float64}, MathOptInterface.LessThan{Float64}}, ScalarShape},1,...} with index sets:\n",
       "    Dimension 1, 1:10\n",
       "And data, a 10-element Vector{ConstraintRef{Model, MathOptInterface.ConstraintIndex{MathOptInterface.ScalarAffineFunction{Float64}, MathOptInterface.LessThan{Float64}}, ScalarShape}}:\n",
       " S[1] + P[1] <= 4500.0\n",
       " S[2] + P[2] <= 4500.0\n",
       " S[3] + P[3] <= 4500.0\n",
       " S[4] + P[4] <= 4500.0\n",
       " S[5] + P[5] <= 4500.0\n",
       " S[6] + P[6] <= 4500.0\n",
       " S[7] + P[7] <= 4500.0\n",
       " S[8] + P[8] <= 4500.0\n",
       " S[9] + P[9] <= 4500.0\n",
       " S[10] + P[10] <= 4500.0"
      ]
     },
     "execution_count": 7,
     "metadata": {},
     "output_type": "execute_result"
    }
   ],
   "source": [
    "set_model_constraints( model, data[\"debt\"], data[\"net_income\"], Savings, Payments, Balance )"
   ]
  },
  {
   "cell_type": "code",
   "execution_count": 8,
   "id": "8d1d759d",
   "metadata": {},
   "outputs": [
    {
     "data": {
      "text/latex": [
       "$$ S_{1} + S_{2} + S_{3} + S_{4} + S_{5} + S_{6} + S_{7} + S_{8} + S_{9} + S_{10} $$"
      ],
      "text/plain": [
       "S[1] + S[2] + S[3] + S[4] + S[5] + S[6] + S[7] + S[8] + S[9] + S[10]"
      ]
     },
     "execution_count": 8,
     "metadata": {},
     "output_type": "execute_result"
    }
   ],
   "source": [
    "@objective(model, Max, sum(Savings))"
   ]
  },
  {
   "cell_type": "code",
   "execution_count": 9,
   "id": "02a20fa4",
   "metadata": {
    "scrolled": true
   },
   "outputs": [
    {
     "data": {
      "text/latex": [
       "$$ \\begin{aligned}\n",
       "\\max\\quad & S_{1} + S_{2} + S_{3} + S_{4} + S_{5} + S_{6} + S_{7} + S_{8} + S_{9} + S_{10}\\\\\n",
       "\\text{Subject to} \\quad & B_{1} = 10000.0\\\\\n",
       " & B_{11} = 0.0\\\\\n",
       " & 1.068 P_{1} - 1.068 B_{1} + B_{2} = 0.0\\\\\n",
       " & 1.068 P_{2} - 1.068 B_{2} + B_{3} = 0.0\\\\\n",
       " & 1.068 P_{3} - 1.068 B_{3} + B_{4} = 0.0\\\\\n",
       " & 1.068 P_{4} - 1.068 B_{4} + B_{5} = 0.0\\\\\n",
       " & 1.068 P_{5} - 1.068 B_{5} + B_{6} = 0.0\\\\\n",
       " & 1.068 P_{6} - 1.068 B_{6} + B_{7} = 0.0\\\\\n",
       " & 1.068 P_{7} - 1.068 B_{7} + B_{8} = 0.0\\\\\n",
       " & 1.068 P_{8} - 1.068 B_{8} + B_{9} = 0.0\\\\\n",
       " & 1.068 P_{9} - 1.068 B_{9} + B_{10} = 0.0\\\\\n",
       " & 1.068 P_{10} - 1.068 B_{10} + B_{11} = 0.0\\\\\n",
       " & S_{1} + P_{1} \\leq 4500.0\\\\\n",
       " & S_{2} + P_{2} \\leq 4500.0\\\\\n",
       " & S_{3} + P_{3} \\leq 4500.0\\\\\n",
       " & S_{4} + P_{4} \\leq 4500.0\\\\\n",
       " & S_{5} + P_{5} \\leq 4500.0\\\\\n",
       " & S_{6} + P_{6} \\leq 4500.0\\\\\n",
       " & S_{7} + P_{7} \\leq 4500.0\\\\\n",
       " & S_{8} + P_{8} \\leq 4500.0\\\\\n",
       " & S_{9} + P_{9} \\leq 4500.0\\\\\n",
       " & S_{10} + P_{10} \\leq 4500.0\\\\\n",
       " & S_{1} \\geq 1000.0\\\\\n",
       " & S_{2} \\geq 1000.0\\\\\n",
       " & S_{3} \\geq 1000.0\\\\\n",
       " & S_{4} \\geq 1000.0\\\\\n",
       " & S_{5} \\geq 1000.0\\\\\n",
       " & S_{6} \\geq 1000.0\\\\\n",
       " & S_{7} \\geq 1000.0\\\\\n",
       " & S_{8} \\geq 1000.0\\\\\n",
       " & S_{9} \\geq 1000.0\\\\\n",
       " & S_{10} \\geq 1000.0\\\\\n",
       " & P_{1} \\geq 0.0\\\\\n",
       " & P_{2} \\geq 0.0\\\\\n",
       " & P_{3} \\geq 0.0\\\\\n",
       " & P_{4} \\geq 0.0\\\\\n",
       " & P_{5} \\geq 0.0\\\\\n",
       " & P_{6} \\geq 0.0\\\\\n",
       " & P_{7} \\geq 0.0\\\\\n",
       " & P_{8} \\geq 0.0\\\\\n",
       " & P_{9} \\geq 0.0\\\\\n",
       " & P_{10} \\geq 0.0\\\\\n",
       " & B_{1} \\geq 0.0\\\\\n",
       " & B_{2} \\geq 0.0\\\\\n",
       " & B_{3} \\geq 0.0\\\\\n",
       " & B_{4} \\geq 0.0\\\\\n",
       " & B_{5} \\geq 0.0\\\\\n",
       " & B_{6} \\geq 0.0\\\\\n",
       " & B_{7} \\geq 0.0\\\\\n",
       " & B_{8} \\geq 0.0\\\\\n",
       " & B_{9} \\geq 0.0\\\\\n",
       " & B_{10} \\geq 0.0\\\\\n",
       " & B_{11} \\geq 0.0\\\\\n",
       "\\end{aligned} $$"
      ]
     },
     "metadata": {},
     "output_type": "display_data"
    }
   ],
   "source": [
    "print( model )"
   ]
  },
  {
   "cell_type": "code",
   "execution_count": 10,
   "id": "0802c41d",
   "metadata": {},
   "outputs": [
    {
     "name": "stdout",
     "output_type": "stream",
     "text": [
      "Presolving model\n",
      "18 rows, 27 cols, 44 nonzeros\n",
      "1 rows, 10 cols, 10 nonzeros\n",
      "1 rows, 10 cols, 10 nonzeros\n",
      "Presolve : Reductions: rows 1(-21); columns 10(-21); elements 10(-42)\n",
      "Solving the presolved LP\n",
      "Using EKK dual simplex solver - serial\n",
      "  Iteration        Objective     Infeasibilities num(sum)\n",
      "          0    -4.5000000000e+04 Pr: 1(12181.9) 0s\n",
      "          1    -3.4311972192e+04 Pr: 0(0) 0s\n",
      "Solving the original LP from the solution after postsolve\n",
      "Model   status      : Optimal\n",
      "Simplex   iterations: 1\n",
      "Objective value     :  3.4311972192e+04\n",
      "HiGHS run time      :          0.00\n"
     ]
    },
    {
     "data": {
      "text/plain": [
       "34311.972192"
      ]
     },
     "execution_count": 10,
     "metadata": {},
     "output_type": "execute_result"
    }
   ],
   "source": [
    "function solve_infeasible(model)\n",
    "    optimize!(model)\n",
    "    if termination_status(model) == OPTIMAL\n",
    "        return objective_value(model)\n",
    "    else\n",
    "        @warn(\"The model was not solved correctly.\")\n",
    "        return nothing\n",
    "    end\n",
    "end\n",
    "\n",
    "solve_infeasible(model)"
   ]
  },
  {
   "cell_type": "code",
   "execution_count": 18,
   "id": "7ad50532",
   "metadata": {},
   "outputs": [],
   "source": [
    "using Printf\n",
    "function print_payment_plan( \n",
    "        model::Model,\n",
    "        debt::Dict,\n",
    "        Savings::JuMP.Containers.DenseAxisArray, \n",
    "        Payments::JuMP.Containers.DenseAxisArray, \n",
    "        Balance::JuMP.Containers.DenseAxisArray\n",
    "    )\n",
    "    @printf(\"| %-10s | %-15s | %-10s | %-10s | %-15s | %-10s | %-12s | %-10s |\\n\",\n",
    "        \"Period\", \"Initial Balance\", \"Payment\", \"Savings\", \n",
    "        \"Int. Rate (%)\", \"Interest\", \"End Balance\", \"Term\"\n",
    "    )\n",
    "    cumulative_savings = cumsum([value(Savings[i]) for i in periods])\n",
    "    for i in periods\n",
    "        start_balance = value(Balance[i])\n",
    "        end_balance = value(Balance[i]) - value(Payments[i])\n",
    "        payment = value(Payments[i])\n",
    "        interest = ( \n",
    "            i == 1 ? 0 \n",
    "            : \n",
    "            value(Balance[i]) - (value(Balance[i - 1] ) - value(Payments[i - 1]))\n",
    "        )\n",
    "        @printf(\"| %10d | %15.2f | %10.2f | %10.2f | %15.2f | %10.2f | %12.2f | %10d |\\n\", \n",
    "            i,\n",
    "            start_balance > 0 ? start_balance : 0.00,\n",
    "            payment > 0 ? payment : 0.00, \n",
    "            cumulative_savings[i],\n",
    "            debt[\"interest\"],\n",
    "            interest > 0 ? interest : 0.00,\n",
    "            end_balance > 0 ? end_balance : 0.00,\n",
    "            debt[\"term\"]\n",
    "        )\n",
    "    end\n",
    "end;"
   ]
  },
  {
   "cell_type": "code",
   "execution_count": 19,
   "id": "ff417696",
   "metadata": {
    "scrolled": true
   },
   "outputs": [
    {
     "name": "stdout",
     "output_type": "stream",
     "text": [
      "| Period     | Initial Balance | Payment    | Savings    | Int. Rate (%)   | Interest   | End Balance  | Term       |\n",
      "|          1 |        10000.00 |    3500.00 |    1000.00 |            0.07 |       0.00 |      6500.00 |         10 |\n",
      "|          2 |         6942.00 |    3500.00 |    2000.00 |            0.07 |     442.00 |      3442.00 |         10 |\n",
      "|          3 |         3676.06 |    3500.00 |    3000.00 |            0.07 |     234.06 |       176.06 |         10 |\n",
      "|          4 |          188.03 |     188.03 |    7311.97 |            0.07 |      11.97 |         0.00 |         10 |\n",
      "|          5 |            0.00 |       0.00 |   11811.97 |            0.07 |       0.00 |         0.00 |         10 |\n",
      "|          6 |            0.00 |       0.00 |   16311.97 |            0.07 |       0.00 |         0.00 |         10 |\n",
      "|          7 |            0.00 |       0.00 |   20811.97 |            0.07 |       0.00 |         0.00 |         10 |\n",
      "|          8 |            0.00 |       0.00 |   25311.97 |            0.07 |       0.00 |         0.00 |         10 |\n",
      "|          9 |            0.00 |       0.00 |   29811.97 |            0.07 |       0.00 |         0.00 |         10 |\n",
      "|         10 |            0.00 |       0.00 |   34311.97 |            0.07 |       0.00 |         0.00 |         10 |\n"
     ]
    }
   ],
   "source": [
    "if termination_status(model) == OPTIMAL\n",
    "    print_payment_plan(model, data[\"debt\"], Savings, Payments, Balance)\n",
    "end"
   ]
  },
  {
   "cell_type": "code",
   "execution_count": 13,
   "id": "35fbea86",
   "metadata": {},
   "outputs": [
    {
     "name": "stdout",
     "output_type": "stream",
     "text": [
      "                                                                                                                      ℑ"
     ]
    }
   ],
   "source": [
    "@printf(\"%119s\", '\\U2111')"
   ]
  }
 ],
 "metadata": {
  "kernelspec": {
   "display_name": "Julia 1.7.2",
   "language": "julia",
   "name": "julia-1.7"
  },
  "language_info": {
   "file_extension": ".jl",
   "mimetype": "application/julia",
   "name": "julia",
   "version": "1.7.2"
  }
 },
 "nbformat": 4,
 "nbformat_minor": 5
}
